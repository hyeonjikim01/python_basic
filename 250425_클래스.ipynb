{
 "cells": [
  {
   "cell_type": "markdown",
   "id": "6b0bda04-6538-4a5e-ba1b-a14cc0874d03",
   "metadata": {},
   "source": [
    "### 클래스"
   ]
  },
  {
   "cell_type": "code",
   "execution_count": 2,
   "id": "46b42e29-380a-4664-93ed-2bcdafe49f49",
   "metadata": {},
   "outputs": [
    {
     "name": "stdout",
     "output_type": "stream",
     "text": [
      "3\n",
      "7\n",
      "3\n",
      "10\n"
     ]
    }
   ],
   "source": [
    "result1 = 0\n",
    "result2 = 0\n",
    "\n",
    "def add1(num):  # 계산기1\n",
    "    global result1\n",
    "    result1 += num\n",
    "    return result1\n",
    "\n",
    "def add2(num):  # 계산기2\n",
    "    global result2\n",
    "    result2 += num\n",
    "    return result2\n",
    "\n",
    "print(add1(3))\n",
    "print(add1(4))\n",
    "print(add2(3))\n",
    "print(add2(7))"
   ]
  },
  {
   "cell_type": "code",
   "execution_count": 16,
   "id": "2d84b96d-4bc1-4ff8-b4ee-01a6030f09ac",
   "metadata": {},
   "outputs": [],
   "source": [
    "class FourCal:\n",
    "  def setdata(self, first, second): # setdata 함수를 정의\n",
    "    self.first = first\n",
    "    self.second = second\n",
    "    # print('first {0}'.format(self.first) + ' .....' + 'second {0}'.format(self.second))"
   ]
  },
  {
   "cell_type": "code",
   "execution_count": 6,
   "id": "15145c01-5b61-456e-9ba0-3681f774cf7c",
   "metadata": {},
   "outputs": [
    {
     "name": "stdout",
     "output_type": "stream",
     "text": [
      "first 4 .....second 2\n"
     ]
    }
   ],
   "source": [
    "a = FourCal()\n",
    "a.setdata(4, 2)"
   ]
  },
  {
   "cell_type": "code",
   "execution_count": 8,
   "id": "34b480a0-bfb7-4650-abc7-687d38f5fddd",
   "metadata": {},
   "outputs": [
    {
     "name": "stdout",
     "output_type": "stream",
     "text": [
      "first 4 .....second 2\n"
     ]
    },
    {
     "data": {
      "text/plain": [
       "4"
      ]
     },
     "execution_count": 8,
     "metadata": {},
     "output_type": "execute_result"
    }
   ],
   "source": [
    "## 객체에 연산할 숫자 지정\n",
    "\n",
    "a = FourCal()\n",
    "a.setdata(4, 2)\n",
    "a.first"
   ]
  },
  {
   "cell_type": "code",
   "execution_count": 10,
   "id": "13e92069-4aee-4d53-b6aa-b5fedd6a11b8",
   "metadata": {},
   "outputs": [
    {
     "data": {
      "text/plain": [
       "2"
      ]
     },
     "execution_count": 10,
     "metadata": {},
     "output_type": "execute_result"
    }
   ],
   "source": [
    "a.second"
   ]
  },
  {
   "cell_type": "code",
   "execution_count": 18,
   "id": "a66665e8-be12-49d8-87dc-9d1eceff8f16",
   "metadata": {},
   "outputs": [
    {
     "data": {
      "text/plain": [
       "4"
      ]
     },
     "execution_count": 18,
     "metadata": {},
     "output_type": "execute_result"
    }
   ],
   "source": [
    "## a, b 객체를 할당\n",
    "## 각각 할당하여 클래스로 만든 객체의 객체 변수는 다른 객체의 객체변수에 상관없이 독립적인 값을 유지\n",
    "\n",
    "a = FourCal()\n",
    "b = FourCal()\n",
    "a.setdata(4, 2)\n",
    "a.first"
   ]
  },
  {
   "cell_type": "code",
   "execution_count": 20,
   "id": "c4487ad2-97be-435c-bce4-71fedc5c83f2",
   "metadata": {},
   "outputs": [
    {
     "data": {
      "text/plain": [
       "3"
      ]
     },
     "execution_count": 20,
     "metadata": {},
     "output_type": "execute_result"
    }
   ],
   "source": [
    "b.setdata(3, 7)\n",
    "b.first"
   ]
  },
  {
   "cell_type": "code",
   "execution_count": 22,
   "id": "4efb1c8c-a675-46b0-81d6-a22c13f7acc7",
   "metadata": {},
   "outputs": [],
   "source": [
    "## 더하기 기능 만들기 \n",
    "## 2개의 숫자 값을 설정해 주었으므로 2개의 숫자를 더하는 기능을 클래스에 가가\n",
    "\n",
    "class FourCal:\n",
    "  def setdata(self, first, second):\n",
    "    self.first = first\n",
    "    self.second = second\n",
    "\n",
    "  def add(self):\n",
    "    result = self.first + self.second # 더기기\n",
    "    return result"
   ]
  },
  {
   "cell_type": "code",
   "execution_count": 24,
   "id": "0d3fbd77-c48e-42ea-8519-3179281ed6e4",
   "metadata": {},
   "outputs": [],
   "source": [
    "a = FourCal()\n",
    "a.setdata(4, 2) # first = 4, second = 2"
   ]
  },
  {
   "cell_type": "code",
   "execution_count": 26,
   "id": "292256b9-0283-41ad-b8c6-a799250804e1",
   "metadata": {},
   "outputs": [
    {
     "data": {
      "text/plain": [
       "6"
      ]
     },
     "execution_count": 26,
     "metadata": {},
     "output_type": "execute_result"
    }
   ],
   "source": [
    "a.add() # 더한 값을 출력"
   ]
  },
  {
   "cell_type": "code",
   "execution_count": 28,
   "id": "cdee4885-4b89-456e-a97a-79935f6803b4",
   "metadata": {},
   "outputs": [],
   "source": [
    "## 곱하기, 빼기, 나누기 기능 만들기\n",
    "\n",
    "class FourCal:\n",
    "  def setdata(self, first, second):\n",
    "    self.first = first\n",
    "    self.second = second\n",
    "\n",
    "  def add(self):\n",
    "    result = self.first + self.second # 덧셈\n",
    "    return result\n",
    "\n",
    "  def mul(self):\n",
    "    result = self.first * self.second # 곱셈\n",
    "    return result\n",
    "\n",
    "  def sub(self):\n",
    "    result = self.first - self.second # 뺄셈\n",
    "    return result\n",
    "\n",
    "  def div(self):\n",
    "    result = self.first / self.second # 나눗셈\n",
    "    return result"
   ]
  },
  {
   "cell_type": "code",
   "execution_count": 30,
   "id": "72a6faf2-af7a-4083-b163-b34a225a2295",
   "metadata": {},
   "outputs": [],
   "source": [
    "## 생성자 추가\n",
    "\n",
    "class FourCal:\n",
    "  def __init__(self, first, second): # __init__로 하여 생성자로 인식되어 객체가 생성되는 시점에 자동으로 호출\n",
    "    self.first = first\n",
    "    self.second = second\n",
    "\n",
    "  def setdata(self, first, second): \n",
    "    self.first = first\n",
    "    self.second = second\n",
    "\n",
    "  def add(self):\n",
    "    result = self.first + self.second\n",
    "    return result\n",
    "\n",
    "  def mul(self):\n",
    "    result = self.first * self.second\n",
    "    return result\n",
    "\n",
    "  def sub(self):\n",
    "    result = self.first - self.second\n",
    "    return result\n",
    "\n",
    "  def div(self):\n",
    "    result = self.first / self.second\n",
    "    return result"
   ]
  },
  {
   "cell_type": "code",
   "execution_count": 32,
   "id": "8def7ecd-9201-4d7f-b254-7859d9fa3e8f",
   "metadata": {},
   "outputs": [],
   "source": [
    "## 클래스 상속\n",
    "## class 클래스_이름(상속할_클래스_이름)\n",
    "\n",
    "class MoreFourCal(FourCal):\n",
    "  pass"
   ]
  },
  {
   "cell_type": "code",
   "execution_count": 34,
   "id": "fa94352e-6b3f-49c0-8219-419d3f3f3095",
   "metadata": {},
   "outputs": [
    {
     "name": "stdout",
     "output_type": "stream",
     "text": [
      "6\n",
      "8\n",
      "2\n"
     ]
    },
    {
     "data": {
      "text/plain": [
       "2.0"
      ]
     },
     "execution_count": 34,
     "metadata": {},
     "output_type": "execute_result"
    }
   ],
   "source": [
    "a = MoreFourCal(4, 2)\n",
    "print(a.add())\n",
    "\n",
    "print(a.mul())\n",
    "\n",
    "print(a.sub())\n",
    "\n",
    "a.div()"
   ]
  },
  {
   "cell_type": "code",
   "execution_count": 40,
   "id": "8d22eec3-1b8c-4fb6-b86b-d14b89af7dd3",
   "metadata": {},
   "outputs": [],
   "source": [
    "## 클래스 상속_a^b\n",
    "\n",
    "class MoreFourCal(FourCal):\n",
    "  def pow(self):\n",
    "    result = self.first ** self.second\n",
    "    return result"
   ]
  },
  {
   "cell_type": "code",
   "execution_count": 42,
   "id": "8ba49bf4-55c2-4b6a-86ab-3aad52e73d8f",
   "metadata": {},
   "outputs": [
    {
     "name": "stdout",
     "output_type": "stream",
     "text": [
      "16\n"
     ]
    }
   ],
   "source": [
    "a = MoreFourCal(4, 2)\n",
    "print(a.pow())"
   ]
  },
  {
   "cell_type": "code",
   "execution_count": 44,
   "id": "1bdfae51-45e6-4a9d-85c9-4f1ef861e7e8",
   "metadata": {},
   "outputs": [],
   "source": [
    "## 클래스 오버라이딩\n",
    "\n",
    "class SafeFourCal(FourCal):\n",
    "  def div(self):\n",
    "    if self.second == 0:  # 나누는 값이 0인 경우 0을 리턴하도록 수정\n",
    "      return 0\n",
    "    else:\n",
    "      return self.first / self.second"
   ]
  },
  {
   "cell_type": "code",
   "execution_count": 46,
   "id": "83615dcb-66da-45f9-af84-b4c5e38fede4",
   "metadata": {},
   "outputs": [
    {
     "name": "stdout",
     "output_type": "stream",
     "text": [
      "2.0\n"
     ]
    }
   ],
   "source": [
    "a = MoreFourCal(4, 2)\n",
    "print(a.div())"
   ]
  },
  {
   "cell_type": "code",
   "execution_count": 48,
   "id": "0df8b9b1-659f-4a21-81ca-6a535e4d6c9a",
   "metadata": {},
   "outputs": [],
   "source": [
    "## 클래스 변수\n",
    "\n",
    "class Family:\n",
    "  lastname = \"김\" # lastname이 클래스 변수"
   ]
  },
  {
   "cell_type": "code",
   "execution_count": 50,
   "id": "7a5a31d0-ac54-442b-a5f6-242412bb1e49",
   "metadata": {},
   "outputs": [
    {
     "data": {
      "text/plain": [
       "'김'"
      ]
     },
     "execution_count": 50,
     "metadata": {},
     "output_type": "execute_result"
    }
   ],
   "source": [
    "Family.lastname"
   ]
  },
  {
   "cell_type": "code",
   "execution_count": 52,
   "id": "290cd927-d525-4960-857a-d3ae0ea3b7d7",
   "metadata": {},
   "outputs": [
    {
     "name": "stdout",
     "output_type": "stream",
     "text": [
      "김\n",
      "김\n"
     ]
    }
   ],
   "source": [
    "a = Family()\n",
    "b = Family()\n",
    "\n",
    "print(a.lastname)\n",
    "print(b.lastname)"
   ]
  },
  {
   "cell_type": "code",
   "execution_count": 54,
   "id": "b89e7632-f4d0-4d8a-8647-d7f9353d4744",
   "metadata": {},
   "outputs": [
    {
     "name": "stdout",
     "output_type": "stream",
     "text": [
      "박\n",
      "박\n"
     ]
    }
   ],
   "source": [
    "## 클래스 변수는 객체변수와 달리 클래스로 만든 모든 객체에 공유된다는 특징\n",
    "\n",
    "Family.lastname = \"박\" # lastname을 박으로 변경\n",
    "\n",
    "print(a.lastname) # 클래스 변수 값을 변경했더니 클래스로 만든 객체의 lastname 값도 모두 변경\n",
    "print(b.lastname)"
   ]
  },
  {
   "cell_type": "markdown",
   "id": "0f238ba1-2b32-4157-8724-91bc49171e2a",
   "metadata": {},
   "source": [
    "### 모듈"
   ]
  },
  {
   "cell_type": "code",
   "execution_count": 57,
   "id": "4c3ab31c-c433-4d74-8f58-e5a850f058ac",
   "metadata": {},
   "outputs": [],
   "source": [
    "## 모듈 불러오기\n",
    "\n",
    "import mod1"
   ]
  },
  {
   "cell_type": "code",
   "execution_count": 59,
   "id": "b8b2be4c-b23e-4603-b20b-432cb7bc1b9e",
   "metadata": {},
   "outputs": [
    {
     "name": "stdout",
     "output_type": "stream",
     "text": [
      "7\n"
     ]
    }
   ],
   "source": [
    "print(mod1.add(3, 4))"
   ]
  },
  {
   "cell_type": "code",
   "execution_count": 61,
   "id": "5f14ad60-0e16-417c-abf9-ad6a11e5e47a",
   "metadata": {},
   "outputs": [
    {
     "name": "stdout",
     "output_type": "stream",
     "text": [
      "2\n"
     ]
    }
   ],
   "source": [
    "print(mod1.sub(4, 2))"
   ]
  },
  {
   "cell_type": "code",
   "execution_count": 63,
   "id": "14c41b19-a0da-4531-a6d7-0dcc20a01098",
   "metadata": {},
   "outputs": [],
   "source": [
    "## 조금 더 쉬운 방식으로 불러오기\n",
    "\n",
    "from mod1 import add"
   ]
  },
  {
   "cell_type": "code",
   "execution_count": 65,
   "id": "6de6ac42-625e-47df-8c96-6dabb242187f",
   "metadata": {},
   "outputs": [
    {
     "data": {
      "text/plain": [
       "7"
      ]
     },
     "execution_count": 65,
     "metadata": {},
     "output_type": "execute_result"
    }
   ],
   "source": [
    "add(3, 4)"
   ]
  },
  {
   "cell_type": "code",
   "execution_count": 69,
   "id": "bbe18f80-4c91-4a76-af78-16bc8573a19b",
   "metadata": {},
   "outputs": [],
   "source": [
    "## from mod1 import add, sub : 여러 개 불러올 때\n",
    "## from mod1 import * : 모듈에 있는 모든 함수 불러오기"
   ]
  },
  {
   "cell_type": "code",
   "execution_count": 71,
   "id": "c8b1f07a-f9df-481a-93fa-606bab3de7dc",
   "metadata": {},
   "outputs": [],
   "source": [
    "## 연습문제1\n",
    "\n",
    "class cbnu(object):\n",
    "    def __init__(self, name, hospital): # 생성자 함수\n",
    "        self.name = name\n",
    "        self.hospital = hospital\n",
    "    def __str__(self): # 객체를 문자열로 출력할 때 메소드\n",
    "        return \"My name is {0} and my major class is {1}.\".format(self.name, self.hospital)\n",
    "class callcb(cbnu): # cbnu 클래스를 상속받는 자식 클래스\n",
    "    pass"
   ]
  },
  {
   "cell_type": "code",
   "execution_count": 75,
   "id": "21b63a3b-61ee-466f-9990-114183520d6e",
   "metadata": {},
   "outputs": [
    {
     "name": "stdout",
     "output_type": "stream",
     "text": [
      "My name is hong and my major class is Medical Engineering.\n"
     ]
    }
   ],
   "source": [
    "only_cb = callcb(\"hong\", \"Medical Engineering\")\n",
    "print(only_cb)"
   ]
  },
  {
   "cell_type": "code",
   "execution_count": 77,
   "id": "77696c9e-cbd3-48d0-9920-007f89a06fb6",
   "metadata": {},
   "outputs": [],
   "source": [
    "## 연습문제2\n",
    "\n",
    "class GamePlayer(object): # GamePlayer 클래스 정의\n",
    "    def __init__(self, name, position, particiate): # 생성자는 객체가 생성될 때 자동으로 호출\n",
    "        self.name = name\n",
    "        self.position = position\n",
    "        self.particiate = particiate\n",
    "    def change_position(self, position): # 플레이어의 포지션 변경\n",
    "        self.position = position"
   ]
  },
  {
   "cell_type": "code",
   "execution_count": 81,
   "id": "4394a204-2c30-437c-83de-f0fe43b98a49",
   "metadata": {},
   "outputs": [],
   "source": [
    "init_Player = GamePlayer(\"Hong\", \"MAN\", 5)"
   ]
  },
  {
   "cell_type": "code",
   "execution_count": 85,
   "id": "a6f42705-497e-48b8-aa4f-671061c9efcf",
   "metadata": {},
   "outputs": [
    {
     "name": "stdout",
     "output_type": "stream",
     "text": [
      "현재 게임 플레이어는 : MAN\n"
     ]
    }
   ],
   "source": [
    "print(\"현재 게임 플레이어는 :\", init_Player.position)"
   ]
  },
  {
   "cell_type": "code",
   "execution_count": 87,
   "id": "9dcf07a4-cf52-49ef-a616-87691e00b896",
   "metadata": {},
   "outputs": [
    {
     "name": "stdout",
     "output_type": "stream",
     "text": [
      "현재 게임 플레이어는: Warrior\n"
     ]
    }
   ],
   "source": [
    "init_Player.change_position('Warrior')\n",
    "print(\"현재 게임 플레이어는:\", init_Player.position)"
   ]
  },
  {
   "cell_type": "code",
   "execution_count": null,
   "id": "0c6f4050-9d70-4380-8f47-3f4ef635dd34",
   "metadata": {},
   "outputs": [],
   "source": []
  }
 ],
 "metadata": {
  "kernelspec": {
   "display_name": "Python [conda env:base] *",
   "language": "python",
   "name": "conda-base-py"
  },
  "language_info": {
   "codemirror_mode": {
    "name": "ipython",
    "version": 3
   },
   "file_extension": ".py",
   "mimetype": "text/x-python",
   "name": "python",
   "nbconvert_exporter": "python",
   "pygments_lexer": "ipython3",
   "version": "3.12.7"
  }
 },
 "nbformat": 4,
 "nbformat_minor": 5
}
