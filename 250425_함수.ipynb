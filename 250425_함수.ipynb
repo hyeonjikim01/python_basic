{
 "cells": [
  {
   "cell_type": "markdown",
   "id": "a9d0f107-2f84-4963-9fbf-edb11c93614e",
   "metadata": {},
   "source": [
    "## 250425_함수"
   ]
  },
  {
   "cell_type": "markdown",
   "id": "4c6ace46-db4e-43c8-9e6d-35507a928b31",
   "metadata": {},
   "source": [
    "### 사용자 정의 함수"
   ]
  },
  {
   "cell_type": "code",
   "execution_count": 3,
   "id": "cda51b12-4c2e-4d55-87f3-786dd71b16a9",
   "metadata": {},
   "outputs": [],
   "source": [
    "## def 함수이름(매개변수1, 매개변수2, ...):\n",
    "##     실행할 코드\n",
    "##     return 결과값"
   ]
  },
  {
   "cell_type": "code",
   "execution_count": 5,
   "id": "4a939eda-53b7-452e-8545-bc8409f7ee13",
   "metadata": {},
   "outputs": [
    {
     "name": "stdout",
     "output_type": "stream",
     "text": [
      "7\n"
     ]
    }
   ],
   "source": [
    "def add(a, b):  # a, b는 매개변수\n",
    "    return a+b\n",
    "\n",
    "print(add(3, 4))  # 3, 4는 인수"
   ]
  },
  {
   "cell_type": "code",
   "execution_count": 7,
   "id": "f4d936f8-cb8b-4207-9462-1eee7e5fc415",
   "metadata": {},
   "outputs": [],
   "source": [
    "## 리턴값이 없는 함수\n",
    "\n",
    "def add(a, b):\n",
    "    print(\"%d, %d의 합은 %d입니다.\" % (a, b, a+b))"
   ]
  },
  {
   "cell_type": "code",
   "execution_count": 9,
   "id": "3269e3fb-05d2-4a3e-b985-a999d1d7d51e",
   "metadata": {},
   "outputs": [
    {
     "name": "stdout",
     "output_type": "stream",
     "text": [
      "3, 4의 합은 7입니다.\n"
     ]
    }
   ],
   "source": [
    "add(3, 4)"
   ]
  },
  {
   "cell_type": "code",
   "execution_count": 11,
   "id": "9b11a24c-33ab-4c70-b956-328efa2fcd65",
   "metadata": {},
   "outputs": [],
   "source": [
    "## 입력값이 여러 개 일때\n",
    "\n",
    "def add_many(*args):\n",
    "    result = 0\n",
    "    for i in args:\n",
    "        result = result + i\n",
    "    return result"
   ]
  },
  {
   "cell_type": "code",
   "execution_count": 13,
   "id": "4ba9b6c5-2fab-4097-903f-4bcc0b62bc10",
   "metadata": {},
   "outputs": [
    {
     "data": {
      "text/plain": [
       "15"
      ]
     },
     "execution_count": 13,
     "metadata": {},
     "output_type": "execute_result"
    }
   ],
   "source": [
    "add_many(1, 2, 3, 4, 5)"
   ]
  },
  {
   "cell_type": "code",
   "execution_count": 32,
   "id": "7c789791-6f0b-48f5-a24e-1ca3afd530ca",
   "metadata": {},
   "outputs": [],
   "source": [
    "# add_mul\n",
    "\n",
    "def add_mul(choice, *args):\n",
    "  if choice == \"add\":   # 매개변수 choice에 \"add\"를 입력받았을 때\n",
    "    result = 0\n",
    "    for i in args:\n",
    "      result = result + i\n",
    "  elif choice == \"mul\":   # 매개변수 choice에 \"mul\"을 입력받았을 때\n",
    "    result = 1\n",
    "    for i in args:\n",
    "      result = result * i\n",
    "  return result"
   ]
  },
  {
   "cell_type": "code",
   "execution_count": 34,
   "id": "d3fcbd26-72d5-4e7c-86fb-27a988f42a68",
   "metadata": {},
   "outputs": [
    {
     "name": "stdout",
     "output_type": "stream",
     "text": [
      "15\n",
      "120\n"
     ]
    }
   ],
   "source": [
    "result = add_mul('add', 1, 2, 3, 4, 5)\n",
    "print(result)\n",
    "\n",
    "result = add_mul('mul', 1, 2, 3, 4, 5)\n",
    "print(result)"
   ]
  },
  {
   "cell_type": "code",
   "execution_count": 36,
   "id": "e222a2b9-df9e-4614-9491-a5b46f795cef",
   "metadata": {},
   "outputs": [],
   "source": [
    "# kwargs\n",
    "\n",
    "def print_kwargs(**kwargs): # 매개변수 앞에 **붙이기 -> 딕셔너리가 되어 나옴\n",
    "  print(kwargs)"
   ]
  },
  {
   "cell_type": "code",
   "execution_count": 38,
   "id": "cecbdb57-5bbb-4f7c-a4ff-c8675f3c74fa",
   "metadata": {},
   "outputs": [
    {
     "name": "stdout",
     "output_type": "stream",
     "text": [
      "{'a': 1}\n",
      "{'name': 'foo', 'age': 3}\n"
     ]
    }
   ],
   "source": [
    "print_kwargs(a=1)\n",
    "print_kwargs(name='foo', age=3)"
   ]
  },
  {
   "cell_type": "code",
   "execution_count": 40,
   "id": "4e5d04b4-bbbe-4b85-a265-341f6cda0d18",
   "metadata": {},
   "outputs": [],
   "source": [
    "# 초기값 미리 설정\n",
    "def say_myself(name, age, man=True): # 초기 설정값이 있는 것은 반드시 마지막에 작성하기 -> 가운데 오면 인식 어려워 에러 발생\n",
    "    print(\"나의 이름은 %s 입니다.\" % name)\n",
    "    print(\"나이는 %d살입니다.\" % age)\n",
    "    if man:\n",
    "        print(\"남자입니다.\")\n",
    "    else:\n",
    "        print(\"여자입니다.\")"
   ]
  },
  {
   "cell_type": "code",
   "execution_count": 42,
   "id": "5f632836-041e-430d-9fa1-40ca6785c256",
   "metadata": {},
   "outputs": [
    {
     "name": "stdout",
     "output_type": "stream",
     "text": [
      "나의 이름은 박응용 입니다.\n",
      "나이는 27살입니다.\n",
      "남자입니다.\n"
     ]
    }
   ],
   "source": [
    "say_myself(\"박응용\", 27)"
   ]
  },
  {
   "cell_type": "markdown",
   "id": "20569c65-fcbc-4077-baf4-afdb72c247c6",
   "metadata": {},
   "source": [
    "### 파이썬의 입출력"
   ]
  },
  {
   "cell_type": "code",
   "execution_count": 45,
   "id": "05896613-e839-40a4-ace9-08419a1792dd",
   "metadata": {},
   "outputs": [
    {
     "name": "stdout",
     "output_type": "stream",
     "text": [
      "2\n"
     ]
    }
   ],
   "source": [
    "## return 사용\n",
    "\n",
    "a = 1\n",
    "def vartest(a):\n",
    "    a = a + 1\n",
    "    return a\n",
    "\n",
    "a = vartest(a)\n",
    "print(a)"
   ]
  },
  {
   "cell_type": "code",
   "execution_count": 47,
   "id": "818c5d55-cc59-4bb6-b17d-7806b566e39b",
   "metadata": {},
   "outputs": [
    {
     "name": "stdout",
     "output_type": "stream",
     "text": [
      "2\n"
     ]
    }
   ],
   "source": [
    "## global 명령어 사용하기\n",
    "\n",
    "a = 1\n",
    "def vartest():\n",
    "    global a\n",
    "    a = a+1\n",
    "\n",
    "vartest()\n",
    "print(a)"
   ]
  },
  {
   "cell_type": "code",
   "execution_count": 49,
   "id": "7fd6a49c-68a3-4d28-92a2-83c6d25f279c",
   "metadata": {},
   "outputs": [],
   "source": [
    "## 파일 열기 모드\n",
    "## r = 읽기모드 : 파일을 읽기만 할 때 사용\n",
    "## w = 쓰기모드 : 파일에 내용을 쓸 때 사용\n",
    "## a = 추가모드 : 파일의 마지막에 새로운 내용 추가할 때 사용"
   ]
  },
  {
   "cell_type": "code",
   "execution_count": 51,
   "id": "e4b22402-0537-4a36-a7ec-2f106598bf16",
   "metadata": {},
   "outputs": [
    {
     "name": "stdout",
     "output_type": "stream",
     "text": [
      "Before test function: 10\n",
      "In Function: 20\n",
      "After test function: 10\n"
     ]
    }
   ],
   "source": [
    "## 연습문제1\n",
    "\n",
    "def test_function(t):\n",
    "    t = 20\n",
    "    print(\"In Function:\", t)\n",
    "\n",
    "x = 10\n",
    "print(\"Before test function:\", x)\n",
    "test_function(x) # x를 복사해서 t라는 새로운 변수에 넘김 -> t는 20을 가르키게 됌\n",
    "print(\"After test function:\", x)"
   ]
  },
  {
   "cell_type": "code",
   "execution_count": 59,
   "id": "517c47e6-ecec-4d4d-8a39-4d8626967e30",
   "metadata": {},
   "outputs": [],
   "source": [
    "## 연습문제2\n",
    "\n",
    "def return_sentence(sentence, n):\n",
    "    sentence += str(n)\n",
    "    n -=1\n",
    "    if n < 0:\n",
    "        return sentence\n",
    "    else:\n",
    "        return(return_sentence(sentence, n))"
   ]
  },
  {
   "cell_type": "code",
   "execution_count": 61,
   "id": "8467ba9e-be5b-49ca-8619-26b882de9952",
   "metadata": {},
   "outputs": [
    {
     "name": "stdout",
     "output_type": "stream",
     "text": [
      "I Love You543210\n"
     ]
    }
   ],
   "source": [
    "sentence = \"I Love You\"\n",
    "print(return_sentence(sentence, 5))"
   ]
  },
  {
   "cell_type": "code",
   "execution_count": 79,
   "id": "1b167335-9ff5-434c-9087-b482465c15b2",
   "metadata": {},
   "outputs": [],
   "source": [
    "## 연습문제3\n",
    "\n",
    "def get_monkey(animal):\n",
    "    animal = list(animal)\n",
    "    animal.append(\"y\")\n",
    "    animal = [\"monkey\"]\n",
    "    return animal"
   ]
  },
  {
   "cell_type": "code",
   "execution_count": 77,
   "id": "7cc1d330-fdbe-4667-9378-e3a7855f97b9",
   "metadata": {},
   "outputs": [
    {
     "name": "stdout",
     "output_type": "stream",
     "text": [
      "monke\n"
     ]
    }
   ],
   "source": [
    "animal = \"monke\" # animal에 새로운 값을 준 것\n",
    "get_monkey(animal) # 매개변수는 함수 안에서만 사용하는 함수만의 변수이기 때문\n",
    "print(animal) "
   ]
  },
  {
   "cell_type": "code",
   "execution_count": null,
   "id": "b3284636-43d1-4925-bfd6-6e715365980b",
   "metadata": {},
   "outputs": [],
   "source": []
  }
 ],
 "metadata": {
  "kernelspec": {
   "display_name": "Python [conda env:base] *",
   "language": "python",
   "name": "conda-base-py"
  },
  "language_info": {
   "codemirror_mode": {
    "name": "ipython",
    "version": 3
   },
   "file_extension": ".py",
   "mimetype": "text/x-python",
   "name": "python",
   "nbconvert_exporter": "python",
   "pygments_lexer": "ipython3",
   "version": "3.12.7"
  }
 },
 "nbformat": 4,
 "nbformat_minor": 5
}
