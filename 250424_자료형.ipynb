{
 "cells": [
  {
   "cell_type": "markdown",
   "id": "2086677f-69a6-4325-baa6-c5c8a88c8cbe",
   "metadata": {},
   "source": [
    "## 자료형"
   ]
  },
  {
   "cell_type": "markdown",
   "id": "7210c3b2-b43a-4fd9-b667-501476d3caf6",
   "metadata": {},
   "source": [
    "### 숫자형 자료형"
   ]
  },
  {
   "cell_type": "code",
   "execution_count": 4,
   "id": "200f6018-a1dc-48f6-9d9e-3f77d607ec2e",
   "metadata": {},
   "outputs": [
    {
     "data": {
      "text/plain": [
       "7"
      ]
     },
     "execution_count": 4,
     "metadata": {},
     "output_type": "execute_result"
    }
   ],
   "source": [
    "## 사칙연산\n",
    "\n",
    "a = 3\n",
    "b = 4\n",
    "a+b"
   ]
  },
  {
   "cell_type": "code",
   "execution_count": 6,
   "id": "c4cd91cd-2182-464f-8ff1-9a73fe87c400",
   "metadata": {},
   "outputs": [
    {
     "data": {
      "text/plain": [
       "-1"
      ]
     },
     "execution_count": 6,
     "metadata": {},
     "output_type": "execute_result"
    }
   ],
   "source": [
    "a-b"
   ]
  },
  {
   "cell_type": "code",
   "execution_count": 8,
   "id": "6a769b90-5dbe-4108-a1a3-2b71c1a3da68",
   "metadata": {},
   "outputs": [
    {
     "data": {
      "text/plain": [
       "12"
      ]
     },
     "execution_count": 8,
     "metadata": {},
     "output_type": "execute_result"
    }
   ],
   "source": [
    "a*b"
   ]
  },
  {
   "cell_type": "code",
   "execution_count": 10,
   "id": "9a3754ee-fa12-4e72-91a5-0250bdbf5b78",
   "metadata": {},
   "outputs": [
    {
     "data": {
      "text/plain": [
       "0.75"
      ]
     },
     "execution_count": 10,
     "metadata": {},
     "output_type": "execute_result"
    }
   ],
   "source": [
    "a/b"
   ]
  },
  {
   "cell_type": "code",
   "execution_count": 12,
   "id": "ef60c56e-d7f8-4777-9b23-1b0bc88dd64f",
   "metadata": {},
   "outputs": [
    {
     "data": {
      "text/plain": [
       "81"
      ]
     },
     "execution_count": 12,
     "metadata": {},
     "output_type": "execute_result"
    }
   ],
   "source": [
    "a**b  # a의 b제곱승"
   ]
  },
  {
   "cell_type": "code",
   "execution_count": 20,
   "id": "60aea83c-66a3-41d9-b2cb-034271da480a",
   "metadata": {},
   "outputs": [
    {
     "data": {
      "text/plain": [
       "3"
      ]
     },
     "execution_count": 20,
     "metadata": {},
     "output_type": "execute_result"
    }
   ],
   "source": [
    "## 나눗셈 연산자 %, //\n",
    "\n",
    "3 % 7 # 나머지를 출력"
   ]
  },
  {
   "cell_type": "code",
   "execution_count": 22,
   "id": "c5b6b3c7-00db-47fa-838f-1055a094a98f",
   "metadata": {},
   "outputs": [
    {
     "data": {
      "text/plain": [
       "1"
      ]
     },
     "execution_count": 22,
     "metadata": {},
     "output_type": "execute_result"
    }
   ],
   "source": [
    "7 // 4 # 몫을 출력"
   ]
  },
  {
   "cell_type": "code",
   "execution_count": 24,
   "id": "9f62ce2a-c300-4725-8e78-cf561e16893d",
   "metadata": {},
   "outputs": [
    {
     "name": "stdout",
     "output_type": "stream",
     "text": [
      "2\n"
     ]
    }
   ],
   "source": [
    "## 복합 연산자\n",
    "\n",
    "a = 1\n",
    "a = a+1\n",
    "print(a)"
   ]
  },
  {
   "cell_type": "code",
   "execution_count": 32,
   "id": "59f7b18a-2072-48f4-88f9-0d260168b177",
   "metadata": {},
   "outputs": [
    {
     "name": "stdout",
     "output_type": "stream",
     "text": [
      "2\n"
     ]
    }
   ],
   "source": [
    "a = 1\n",
    "a += 1 # a = a+1을 줄여서 표현한 것\n",
    "print(a)"
   ]
  },
  {
   "cell_type": "code",
   "execution_count": 30,
   "id": "a0c7ba95-1689-4e5b-9703-65c29b06cdc4",
   "metadata": {},
   "outputs": [
    {
     "name": "stdout",
     "output_type": "stream",
     "text": [
      "0\n"
     ]
    }
   ],
   "source": [
    "a = 1\n",
    "a -= 1 # a = a-1을 표현한 것\n",
    "print(a)"
   ]
  },
  {
   "cell_type": "markdown",
   "id": "61195edc-e15a-4aa0-a5cc-9f66e62a5022",
   "metadata": {},
   "source": [
    "---"
   ]
  },
  {
   "cell_type": "markdown",
   "id": "39419eee-8220-493a-98e7-0cea057939e7",
   "metadata": {},
   "source": [
    "### 문자열 자료형"
   ]
  },
  {
   "cell_type": "code",
   "execution_count": 37,
   "id": "8a84d3d1-236e-45a0-98ee-a5412a626b8c",
   "metadata": {},
   "outputs": [
    {
     "data": {
      "text/plain": [
       "'Hello world'"
      ]
     },
     "execution_count": 37,
     "metadata": {},
     "output_type": "execute_result"
    }
   ],
   "source": [
    "# 큰 따옴표로 양쪽 둘러기기\n",
    "\n",
    "\"Hello world\" "
   ]
  },
  {
   "cell_type": "code",
   "execution_count": 39,
   "id": "512f5f5f-fd7b-4c2b-8d1e-eabf63ded625",
   "metadata": {},
   "outputs": [
    {
     "data": {
      "text/plain": [
       "'Python is fun'"
      ]
     },
     "execution_count": 39,
     "metadata": {},
     "output_type": "execute_result"
    }
   ],
   "source": [
    "# 작은 따옴표로 양쪽 둘러싸기\n",
    "'Python is fun'"
   ]
  },
  {
   "cell_type": "code",
   "execution_count": 41,
   "id": "57660bcc-6c85-407a-b76f-f6f11140c512",
   "metadata": {},
   "outputs": [
    {
     "data": {
      "text/plain": [
       "'Life is too short, You need python'"
      ]
     },
     "execution_count": 41,
     "metadata": {},
     "output_type": "execute_result"
    }
   ],
   "source": [
    "# 큰 따옴표 3개 연속으로 써서 양쪽 둘러싸기\n",
    "\n",
    "\"\"\"Life is too short, You need python\"\"\""
   ]
  },
  {
   "cell_type": "code",
   "execution_count": 43,
   "id": "6d28953f-a88a-44b9-aed6-0d383e47cf96",
   "metadata": {},
   "outputs": [
    {
     "data": {
      "text/plain": [
       "'Life is too short, You need python'"
      ]
     },
     "execution_count": 43,
     "metadata": {},
     "output_type": "execute_result"
    }
   ],
   "source": [
    "# 작은 따옴표 3개 연속으로 써서 양쪽 둘러싸기\n",
    "\n",
    "'''Life is too short, You need python'''"
   ]
  },
  {
   "cell_type": "code",
   "execution_count": 45,
   "id": "0844a60b-ee8c-4725-a3db-6cec06358783",
   "metadata": {},
   "outputs": [
    {
     "name": "stdout",
     "output_type": "stream",
     "text": [
      "Python's favorite food is perl\n"
     ]
    }
   ],
   "source": [
    "print(\"Python's favorite food is perl\") # '가 문장 중간에 있는 경우 반드시 큰 따옴표 사용하기"
   ]
  },
  {
   "cell_type": "code",
   "execution_count": 47,
   "id": "6604d5d7-7ee1-4a35-a479-53a7ae607670",
   "metadata": {},
   "outputs": [
    {
     "name": "stdout",
     "output_type": "stream",
     "text": [
      "\"Python is very easy.\" he says.\n"
     ]
    }
   ],
   "source": [
    "print('\"Python is very easy.\" he says.') # 큰 따옴표가 문장 안에 들어가는 경우 작은 따옴표 사용"
   ]
  },
  {
   "cell_type": "code",
   "execution_count": 49,
   "id": "29f8d3f3-189e-4f1b-adb0-c4f3dc509a70",
   "metadata": {},
   "outputs": [
    {
     "name": "stdout",
     "output_type": "stream",
     "text": [
      "Python's favorite food is perl\n"
     ]
    }
   ],
   "source": [
    "print('Python\\'s favorite food is perl') # \\를 사용하면 기호의 의미가 아니기 때문에 "
   ]
  },
  {
   "cell_type": "code",
   "execution_count": 51,
   "id": "0a16d0b7-a205-4b03-988e-29b00a182f18",
   "metadata": {},
   "outputs": [
    {
     "name": "stdout",
     "output_type": "stream",
     "text": [
      "\"Python is very easy.\" he says.\n"
     ]
    }
   ],
   "source": [
    "print(\"\\\"Python is very easy.\\\" he says.\") # \\는 원하는 따옴표 앞에 붙여야 함"
   ]
  },
  {
   "cell_type": "markdown",
   "id": "8586a187-fb14-4b09-b73c-d8b908d47aa4",
   "metadata": {},
   "source": [
    "### 문자열 인덱싱과 슬라이싱"
   ]
  },
  {
   "cell_type": "code",
   "execution_count": 55,
   "id": "a874d1e9-dcb4-46e5-ab6e-cea4346dcfdd",
   "metadata": {},
   "outputs": [
    {
     "data": {
      "text/plain": [
       "'e'"
      ]
     },
     "execution_count": 55,
     "metadata": {},
     "output_type": "execute_result"
    }
   ],
   "source": [
    "### 문자열 인덱싱과 슬라이싱\n",
    "\n",
    "a = \"Life is too short, You need Python\"\n",
    "a[3]"
   ]
  },
  {
   "cell_type": "code",
   "execution_count": 57,
   "id": "fdcf1ba5-d45f-4070-8b8e-96229a6e75de",
   "metadata": {},
   "outputs": [
    {
     "data": {
      "text/plain": [
       "'L'"
      ]
     },
     "execution_count": 57,
     "metadata": {},
     "output_type": "execute_result"
    }
   ],
   "source": [
    "a[0] # 첫 번째"
   ]
  },
  {
   "cell_type": "code",
   "execution_count": 59,
   "id": "b837a773-b389-427a-a0e3-7df248a7136a",
   "metadata": {},
   "outputs": [
    {
     "data": {
      "text/plain": [
       "'n'"
      ]
     },
     "execution_count": 59,
     "metadata": {},
     "output_type": "execute_result"
    }
   ],
   "source": [
    "a[-1] # 맨 마지막"
   ]
  },
  {
   "cell_type": "code",
   "execution_count": 61,
   "id": "396efddf-4d83-4eae-8763-08f02962038c",
   "metadata": {},
   "outputs": [
    {
     "data": {
      "text/plain": [
       "'Life'"
      ]
     },
     "execution_count": 61,
     "metadata": {},
     "output_type": "execute_result"
    }
   ],
   "source": [
    "a[0:4] # 첫번째부터 세번째까지"
   ]
  },
  {
   "cell_type": "code",
   "execution_count": 63,
   "id": "6cf4f134-7962-4b89-9e17-8b040023d29a",
   "metadata": {},
   "outputs": [
    {
     "data": {
      "text/plain": [
       "'is'"
      ]
     },
     "execution_count": 63,
     "metadata": {},
     "output_type": "execute_result"
    }
   ],
   "source": [
    "a[5:7] # 시작번호가 0일 필요는 없음"
   ]
  },
  {
   "cell_type": "code",
   "execution_count": 67,
   "id": "3a7c7cba-e4a4-47ba-ad17-934803f0be75",
   "metadata": {},
   "outputs": [
    {
     "data": {
      "text/plain": [
       "'short, You need Python'"
      ]
     },
     "execution_count": 67,
     "metadata": {},
     "output_type": "execute_result"
    }
   ],
   "source": [
    "a[12:] # 11번째부터 끝까지"
   ]
  },
  {
   "cell_type": "code",
   "execution_count": 69,
   "id": "779dd133-c46d-4ee7-9092-aaa5a0c3cd77",
   "metadata": {},
   "outputs": [
    {
     "data": {
      "text/plain": [
       "'Life is too short'"
      ]
     },
     "execution_count": 69,
     "metadata": {},
     "output_type": "execute_result"
    }
   ],
   "source": [
    "a[:17] # 처음부터 16번째까지"
   ]
  },
  {
   "cell_type": "code",
   "execution_count": 71,
   "id": "4eb631a1-dae5-42bc-8071-2293eea12b6a",
   "metadata": {},
   "outputs": [],
   "source": [
    "## 슬라이싱으로 문자열 나누기\n",
    "\n",
    "a = '20230331Rainy'"
   ]
  },
  {
   "cell_type": "code",
   "execution_count": 73,
   "id": "2518da1e-6bac-48ea-8673-c2652e53e0d0",
   "metadata": {},
   "outputs": [],
   "source": [
    "date = a[:8] # 문자열의 일부를 새로운 변수에 저장"
   ]
  },
  {
   "cell_type": "code",
   "execution_count": 75,
   "id": "4e69d532-a8dd-4f25-b729-9fdd0a3239cb",
   "metadata": {},
   "outputs": [],
   "source": [
    "weather = a[8:]"
   ]
  },
  {
   "cell_type": "code",
   "execution_count": 77,
   "id": "9b6b3fbb-66b5-494f-9cb3-d6fe756e6b5b",
   "metadata": {},
   "outputs": [
    {
     "name": "stdout",
     "output_type": "stream",
     "text": [
      "20230331\n",
      "Rainy\n"
     ]
    }
   ],
   "source": [
    "print(date)\n",
    "print(weather)"
   ]
  },
  {
   "cell_type": "code",
   "execution_count": 81,
   "id": "a1b2073c-5c36-483c-909b-c086de057de9",
   "metadata": {},
   "outputs": [],
   "source": [
    "## 문자열에서 철자를 바꾸는 방법\n",
    "\n",
    "a = 'Pithon'"
   ]
  },
  {
   "cell_type": "code",
   "execution_count": 83,
   "id": "f4657640-4940-4051-bf9b-dc8ecddd452c",
   "metadata": {},
   "outputs": [
    {
     "ename": "TypeError",
     "evalue": "'str' object does not support item assignment",
     "output_type": "error",
     "traceback": [
      "\u001b[1;31m---------------------------------------------------------------------------\u001b[0m",
      "\u001b[1;31mTypeError\u001b[0m                                 Traceback (most recent call last)",
      "Cell \u001b[1;32mIn[83], line 1\u001b[0m\n\u001b[1;32m----> 1\u001b[0m a[\u001b[38;5;241m1\u001b[39m] \u001b[38;5;241m=\u001b[39m \u001b[38;5;124m'\u001b[39m\u001b[38;5;124my\u001b[39m\u001b[38;5;124m'\u001b[39m\n",
      "\u001b[1;31mTypeError\u001b[0m: 'str' object does not support item assignment"
     ]
    }
   ],
   "source": [
    "a[1] = 'y' # a의 1번째를 i에서 y로 바꾼다, 에러"
   ]
  },
  {
   "cell_type": "code",
   "execution_count": 85,
   "id": "8804e37d-b04a-4704-837b-377c586f9e44",
   "metadata": {},
   "outputs": [
    {
     "data": {
      "text/plain": [
       "'Python'"
      ]
     },
     "execution_count": 85,
     "metadata": {},
     "output_type": "execute_result"
    }
   ],
   "source": [
    "a[:1] + 'y' + a[2:] # 각 구간을 슬라이싱해서 합쳐주는 방법을 사용해야함"
   ]
  },
  {
   "cell_type": "markdown",
   "id": "56f20651-9a27-43a9-b799-96f53ce4f933",
   "metadata": {},
   "source": [
    "### 문자열 포매팅"
   ]
  },
  {
   "cell_type": "code",
   "execution_count": 89,
   "id": "3f0dbaac-19d2-4bc5-a351-b058ee8c8751",
   "metadata": {},
   "outputs": [
    {
     "data": {
      "text/plain": [
       "'I eat 3 apples.'"
      ]
     },
     "execution_count": 89,
     "metadata": {},
     "output_type": "execute_result"
    }
   ],
   "source": [
    "## %d 문자열 포맷 코드 활용\n",
    "\n",
    "\"I eat %d apples.\" %3 # 숫자일 때"
   ]
  },
  {
   "cell_type": "code",
   "execution_count": 91,
   "id": "4bd1644f-13da-438a-ad10-86f1b00f3762",
   "metadata": {},
   "outputs": [
    {
     "data": {
      "text/plain": [
       "'I eat five apples.'"
      ]
     },
     "execution_count": 91,
     "metadata": {},
     "output_type": "execute_result"
    }
   ],
   "source": [
    "\"I eat %s apples.\" % \"five\" # 문자열일 때"
   ]
  },
  {
   "cell_type": "code",
   "execution_count": 93,
   "id": "1cf36326-4f04-417b-8e0b-28bc12868b46",
   "metadata": {},
   "outputs": [
    {
     "data": {
      "text/plain": [
       "'I eat 4 apples.'"
      ]
     },
     "execution_count": 93,
     "metadata": {},
     "output_type": "execute_result"
    }
   ],
   "source": [
    "number = 4\n",
    "\n",
    "\"I eat %d apples.\" % number # 변수 대입 가능"
   ]
  },
  {
   "cell_type": "code",
   "execution_count": 95,
   "id": "01727435-becd-4df5-95fe-6ef06e0eed89",
   "metadata": {},
   "outputs": [
    {
     "data": {
      "text/plain": [
       "'I ate 10 apples. so I was sick for three days.'"
      ]
     },
     "execution_count": 95,
     "metadata": {},
     "output_type": "execute_result"
    }
   ],
   "source": [
    "number = 10\n",
    "day = 'three'\n",
    "\n",
    "\"I ate %d apples. so I was sick for %s days.\" % (number, day) # 2개 이상의 값을 넣고 싶을 때"
   ]
  },
  {
   "cell_type": "code",
   "execution_count": 99,
   "id": "9288c792-2ba3-4332-85b4-32021ab9d036",
   "metadata": {},
   "outputs": [
    {
     "data": {
      "text/plain": [
       "'3.4213'"
      ]
     },
     "execution_count": 99,
     "metadata": {},
     "output_type": "execute_result"
    }
   ],
   "source": [
    "# 소수점 표현하기\n",
    "\n",
    "\"%0.4f\" % 3.42134234 # 소수점 네 번째 자리까지만 출력"
   ]
  },
  {
   "cell_type": "code",
   "execution_count": 101,
   "id": "002a1f09-c501-4c76-8460-33461ba86cb7",
   "metadata": {},
   "outputs": [
    {
     "data": {
      "text/plain": [
       "'    3.4213'"
      ]
     },
     "execution_count": 101,
     "metadata": {},
     "output_type": "execute_result"
    }
   ],
   "source": [
    "\"%10.4f\" % 3.42134234 # 전체 길이가 10개인 문자열 공간에서 오른쪽으로 정렬하는 예"
   ]
  },
  {
   "cell_type": "code",
   "execution_count": 103,
   "id": "db58a30d-5739-4560-925f-32c7215aae89",
   "metadata": {},
   "outputs": [
    {
     "data": {
      "text/plain": [
       "'I eat 3 apples'"
      ]
     },
     "execution_count": 103,
     "metadata": {},
     "output_type": "execute_result"
    }
   ],
   "source": [
    "## format 함수를 사용한 포매팅\n",
    "\n",
    "\"I eat {0} apples\".format(3)"
   ]
  },
  {
   "cell_type": "code",
   "execution_count": 105,
   "id": "50ec4a7c-f330-42e3-a691-cdec81abad27",
   "metadata": {},
   "outputs": [
    {
     "data": {
      "text/plain": [
       "'I eat five apples'"
      ]
     },
     "execution_count": 105,
     "metadata": {},
     "output_type": "execute_result"
    }
   ],
   "source": [
    "\"I eat {0} apples\".format(\"five\") # 문자열"
   ]
  },
  {
   "cell_type": "code",
   "execution_count": 107,
   "id": "64c9e137-85f2-4811-9831-cd28a6e4ebf0",
   "metadata": {},
   "outputs": [
    {
     "data": {
      "text/plain": [
       "'I eat 3 apples'"
      ]
     },
     "execution_count": 107,
     "metadata": {},
     "output_type": "execute_result"
    }
   ],
   "source": [
    "number = 3\n",
    "\"I eat {0} apples\".format(number) # 변수 활용"
   ]
  },
  {
   "cell_type": "code",
   "execution_count": 109,
   "id": "ea882a69-5dec-4b04-9098-aeb42219a34a",
   "metadata": {},
   "outputs": [
    {
     "data": {
      "text/plain": [
       "'I ate 10 apples. so I was sick for three days.'"
      ]
     },
     "execution_count": 109,
     "metadata": {},
     "output_type": "execute_result"
    }
   ],
   "source": [
    "number = 10\n",
    "day = 'three'\n",
    "\n",
    "\"I ate {0} apples. so I was sick for {1} days.\".format(number, day) # 2개 이상의 값 활용"
   ]
  },
  {
   "cell_type": "code",
   "execution_count": 111,
   "id": "3f9cffc6-1775-415d-819b-66319e8b2fb3",
   "metadata": {},
   "outputs": [
    {
     "data": {
      "text/plain": [
       "'나의 이름은 홍길동입니다. 나이는 30입니다.'"
      ]
     },
     "execution_count": 111,
     "metadata": {},
     "output_type": "execute_result"
    }
   ],
   "source": [
    "## f 문자열 포매팅\n",
    "## 앞에 접두사 f를 붙이면 f문자열 포매팅 기능을 사용 가능\n",
    "\n",
    "name = '홍길동'\n",
    "age = 30\n",
    "f'나의 이름은 {name}입니다. 나이는 {age}입니다.' # {변수 및 값}"
   ]
  },
  {
   "cell_type": "markdown",
   "id": "544721ba-9d6a-40ca-a9b3-90260bec5752",
   "metadata": {},
   "source": [
    "### 리스트 자료형"
   ]
  },
  {
   "cell_type": "code",
   "execution_count": 114,
   "id": "d03c7c1e-693b-4972-9eab-ace4d20217bc",
   "metadata": {},
   "outputs": [
    {
     "data": {
      "text/plain": [
       "[1, 2, 3, 4, 5, 6]"
      ]
     },
     "execution_count": 114,
     "metadata": {},
     "output_type": "execute_result"
    }
   ],
   "source": [
    "a = [1, 2, 3]\n",
    "b = [4, 5, 6]\n",
    "a+b"
   ]
  },
  {
   "cell_type": "code",
   "execution_count": 116,
   "id": "b7f7562d-967b-4b0d-88a3-363bbd48aeb2",
   "metadata": {},
   "outputs": [
    {
     "data": {
      "text/plain": [
       "[1, 2, 3, 1, 2, 3, 1, 2, 3]"
      ]
     },
     "execution_count": 116,
     "metadata": {},
     "output_type": "execute_result"
    }
   ],
   "source": [
    "## 리스트 반복하기\n",
    "a*3"
   ]
  },
  {
   "cell_type": "code",
   "execution_count": 118,
   "id": "35919771-353c-4ea2-b889-4b39dfc8b3eb",
   "metadata": {},
   "outputs": [
    {
     "data": {
      "text/plain": [
       "3"
      ]
     },
     "execution_count": 118,
     "metadata": {},
     "output_type": "execute_result"
    }
   ],
   "source": [
    "## 리스트 길이 = 인자 갯수\n",
    "\n",
    "len(a)"
   ]
  },
  {
   "cell_type": "code",
   "execution_count": 120,
   "id": "b78d2fd2-622b-4fbd-8527-46753f9c8402",
   "metadata": {},
   "outputs": [],
   "source": [
    "## 리스트 값 수정\n",
    "\n",
    "a[2] = 4 # a의 2번째 값을 4로 변경"
   ]
  },
  {
   "cell_type": "code",
   "execution_count": 122,
   "id": "d347242a-783e-468a-95c8-7354ad509c27",
   "metadata": {},
   "outputs": [
    {
     "data": {
      "text/plain": [
       "[1, 2, 4]"
      ]
     },
     "execution_count": 122,
     "metadata": {},
     "output_type": "execute_result"
    }
   ],
   "source": [
    "a"
   ]
  },
  {
   "cell_type": "code",
   "execution_count": 124,
   "id": "bc73cfe4-e119-41c6-b412-bf057aebdfe6",
   "metadata": {},
   "outputs": [],
   "source": [
    "## 리스트 값 삭제\n",
    "\n",
    "del a[1] # a의 1번째 값을 삭제"
   ]
  },
  {
   "cell_type": "code",
   "execution_count": 128,
   "id": "afe7bc39-fac3-4f8a-84f2-2185ef48bfb2",
   "metadata": {},
   "outputs": [
    {
     "data": {
      "text/plain": [
       "[1, 4]"
      ]
     },
     "execution_count": 128,
     "metadata": {},
     "output_type": "execute_result"
    }
   ],
   "source": [
    "a"
   ]
  },
  {
   "cell_type": "code",
   "execution_count": null,
   "id": "236d1b98-b0dc-4d0d-a59e-77ffe8b19f13",
   "metadata": {},
   "outputs": [],
   "source": [
    "## 리스트에 요소 추가하기 append\n",
    "\n",
    "a.append(3) # a에 3을 추가"
   ]
  },
  {
   "cell_type": "code",
   "execution_count": 132,
   "id": "7630f03e-605d-4dd3-a331-49886463c2f1",
   "metadata": {},
   "outputs": [
    {
     "data": {
      "text/plain": [
       "[1, 4, 3]"
      ]
     },
     "execution_count": 132,
     "metadata": {},
     "output_type": "execute_result"
    }
   ],
   "source": [
    "a"
   ]
  },
  {
   "cell_type": "code",
   "execution_count": 134,
   "id": "cdf6a0dc-1715-47d1-b599-20d5310f8cbe",
   "metadata": {},
   "outputs": [
    {
     "data": {
      "text/plain": [
       "[1, 2, 3, 4]"
      ]
     },
     "execution_count": 134,
     "metadata": {},
     "output_type": "execute_result"
    }
   ],
   "source": [
    "## 리스트 정렬\n",
    "\n",
    "a = [1, 4, 3, 2]\n",
    "a.sort()\n",
    "a"
   ]
  },
  {
   "cell_type": "code",
   "execution_count": 136,
   "id": "4038cba2-2306-4f62-b060-193b99981d2a",
   "metadata": {},
   "outputs": [
    {
     "data": {
      "text/plain": [
       "['a', 'b', 'c']"
      ]
     },
     "execution_count": 136,
     "metadata": {},
     "output_type": "execute_result"
    }
   ],
   "source": [
    "a = ['a', 'c', 'b']\n",
    "a.sort()\n",
    "a"
   ]
  },
  {
   "cell_type": "code",
   "execution_count": 138,
   "id": "b68601e5-984d-4a18-9b92-6145843f01a7",
   "metadata": {},
   "outputs": [
    {
     "data": {
      "text/plain": [
       "['b', 'c', 'a']"
      ]
     },
     "execution_count": 138,
     "metadata": {},
     "output_type": "execute_result"
    }
   ],
   "source": [
    "a = ['a', 'c', 'b']\n",
    "a.reverse() # 현재 순서를 역순으로 \n",
    "a"
   ]
  },
  {
   "cell_type": "code",
   "execution_count": 140,
   "id": "529af14a-7415-4b60-a904-bd2c233d5555",
   "metadata": {},
   "outputs": [
    {
     "data": {
      "text/plain": [
       "2"
      ]
     },
     "execution_count": 140,
     "metadata": {},
     "output_type": "execute_result"
    }
   ],
   "source": [
    "## 인덱스 반환\n",
    "\n",
    "a = [1, 2, 3]\n",
    "a.index(3) # a의 3의 위치"
   ]
  },
  {
   "cell_type": "code",
   "execution_count": 142,
   "id": "6bd84f4c-d336-45c3-87f8-c07254dd42c7",
   "metadata": {},
   "outputs": [
    {
     "data": {
      "text/plain": [
       "0"
      ]
     },
     "execution_count": 142,
     "metadata": {},
     "output_type": "execute_result"
    }
   ],
   "source": [
    "a.index(1)"
   ]
  },
  {
   "cell_type": "code",
   "execution_count": 144,
   "id": "330baf9c-b667-4930-82df-b15b5ab9e732",
   "metadata": {},
   "outputs": [],
   "source": [
    "## 리스트에 요소 삽입\n",
    "\n",
    "a = [1, 2, 3]\n",
    "\n",
    "a.insert(0, 4) # 0번째 자리에 4를 추가하겠음"
   ]
  },
  {
   "cell_type": "code",
   "execution_count": 146,
   "id": "2ea73648-dc7b-4c76-b07c-b6b64ee4eb5c",
   "metadata": {},
   "outputs": [
    {
     "data": {
      "text/plain": [
       "[4, 1, 2, 3]"
      ]
     },
     "execution_count": 146,
     "metadata": {},
     "output_type": "execute_result"
    }
   ],
   "source": [
    "a"
   ]
  },
  {
   "cell_type": "code",
   "execution_count": 148,
   "id": "55315455-7a1d-4446-8ffe-1c728ad0f105",
   "metadata": {},
   "outputs": [],
   "source": [
    "## 리스트 요소 제거\n",
    "\n",
    "a = [1, 2, 3, 1, 2, 3]\n",
    "a.remove(3) # 리스트에서 첫번째 나오는 3을 삭제하겠다"
   ]
  },
  {
   "cell_type": "code",
   "execution_count": 150,
   "id": "b8beca29-83b5-4500-a903-cccd1f5dd6b0",
   "metadata": {},
   "outputs": [
    {
     "data": {
      "text/plain": [
       "[1, 2, 1, 2, 3]"
      ]
     },
     "execution_count": 150,
     "metadata": {},
     "output_type": "execute_result"
    }
   ],
   "source": [
    "a"
   ]
  },
  {
   "cell_type": "markdown",
   "id": "7121234b-5761-44cf-b301-dadd90da8f4d",
   "metadata": {},
   "source": [
    "### 딕셔너리 자료형"
   ]
  },
  {
   "cell_type": "code",
   "execution_count": 153,
   "id": "15db5364-66eb-4ff1-85dd-931f1216d235",
   "metadata": {},
   "outputs": [],
   "source": [
    "a = {1: 'a'} # 딕셔너리 생성"
   ]
  },
  {
   "cell_type": "code",
   "execution_count": 155,
   "id": "98da0c4a-93ec-4bf4-8a8d-ab621f377dab",
   "metadata": {},
   "outputs": [],
   "source": [
    "## 딕셔너리 쌍 추가\n",
    "\n",
    "a[2] = 'b' "
   ]
  },
  {
   "cell_type": "code",
   "execution_count": 157,
   "id": "9a754214-883c-4afd-a5c8-5ea7651ea5cf",
   "metadata": {},
   "outputs": [
    {
     "data": {
      "text/plain": [
       "{1: 'a', 2: 'b'}"
      ]
     },
     "execution_count": 157,
     "metadata": {},
     "output_type": "execute_result"
    }
   ],
   "source": [
    "a"
   ]
  },
  {
   "cell_type": "code",
   "execution_count": 159,
   "id": "6f0f9ed0-b508-49be-9359-1b0fbc840c63",
   "metadata": {},
   "outputs": [],
   "source": [
    "a[3] = [1, 2, 3]"
   ]
  },
  {
   "cell_type": "code",
   "execution_count": 161,
   "id": "b9c76e07-c05f-439f-a361-274130d857a1",
   "metadata": {},
   "outputs": [
    {
     "data": {
      "text/plain": [
       "{1: 'a', 2: 'b', 3: [1, 2, 3]}"
      ]
     },
     "execution_count": 161,
     "metadata": {},
     "output_type": "execute_result"
    }
   ],
   "source": [
    "a"
   ]
  },
  {
   "cell_type": "code",
   "execution_count": 163,
   "id": "a00042af-8162-420f-90b8-a1b975ad31f1",
   "metadata": {},
   "outputs": [],
   "source": [
    "## 딕셔너리 쌍 삭제\n",
    "\n",
    "del a[1]"
   ]
  },
  {
   "cell_type": "code",
   "execution_count": 165,
   "id": "764a2ac0-e31e-4a67-9b79-ad156da97ada",
   "metadata": {},
   "outputs": [
    {
     "data": {
      "text/plain": [
       "{2: 'b', 3: [1, 2, 3]}"
      ]
     },
     "execution_count": 165,
     "metadata": {},
     "output_type": "execute_result"
    }
   ],
   "source": [
    "a"
   ]
  },
  {
   "cell_type": "code",
   "execution_count": 167,
   "id": "c714dcd9-25f9-4f8e-b405-755320835a60",
   "metadata": {},
   "outputs": [],
   "source": [
    "## 딕셔너리 값 변경\n",
    "\n",
    "a[2] = 'c'"
   ]
  },
  {
   "cell_type": "code",
   "execution_count": 169,
   "id": "bd25d1df-1b8e-459a-aa80-bc3e58c9fedd",
   "metadata": {},
   "outputs": [
    {
     "data": {
      "text/plain": [
       "{2: 'c', 3: [1, 2, 3]}"
      ]
     },
     "execution_count": 169,
     "metadata": {},
     "output_type": "execute_result"
    }
   ],
   "source": [
    "a # 가장 최근 값으로 덮어씀"
   ]
  },
  {
   "cell_type": "code",
   "execution_count": 171,
   "id": "8acfd0d4-d655-4497-a808-f1dd852779c6",
   "metadata": {},
   "outputs": [
    {
     "data": {
      "text/plain": [
       "dict_keys([2, 3])"
      ]
     },
     "execution_count": 171,
     "metadata": {},
     "output_type": "execute_result"
    }
   ],
   "source": [
    "## 딕셔너리의 키 값 확인\n",
    "\n",
    "a.keys()"
   ]
  },
  {
   "cell_type": "code",
   "execution_count": 173,
   "id": "e823e8a9-165c-40f6-bf27-78a4693a11e8",
   "metadata": {},
   "outputs": [
    {
     "data": {
      "text/plain": [
       "dict_values(['c', [1, 2, 3]])"
      ]
     },
     "execution_count": 173,
     "metadata": {},
     "output_type": "execute_result"
    }
   ],
   "source": [
    "## 딕셔너리의 values 값 확인\n",
    "\n",
    "a.values()"
   ]
  },
  {
   "cell_type": "code",
   "execution_count": 177,
   "id": "1e524f93-21b9-4d32-8e4e-bb0f57d07414",
   "metadata": {},
   "outputs": [
    {
     "data": {
      "text/plain": [
       "dict_items([(2, 'c'), (3, [1, 2, 3])])"
      ]
     },
     "execution_count": 177,
     "metadata": {},
     "output_type": "execute_result"
    }
   ],
   "source": [
    "## 딕셔너리 key, value를 쌍으로 리턴\n",
    "\n",
    "a.items()"
   ]
  },
  {
   "cell_type": "markdown",
   "id": "e5ae7670-df38-49bc-a813-84c114c41c05",
   "metadata": {},
   "source": [
    "### 집합 자료형"
   ]
  },
  {
   "cell_type": "code",
   "execution_count": 180,
   "id": "afb30270-dc2e-4164-93ec-a695482ffff9",
   "metadata": {},
   "outputs": [],
   "source": [
    "s1 = set([1, 2, 3])"
   ]
  },
  {
   "cell_type": "code",
   "execution_count": 182,
   "id": "bacc4221-689f-481e-a5d5-1021e1baa6c8",
   "metadata": {},
   "outputs": [
    {
     "data": {
      "text/plain": [
       "{1, 2, 3}"
      ]
     },
     "execution_count": 182,
     "metadata": {},
     "output_type": "execute_result"
    }
   ],
   "source": [
    "s1"
   ]
  },
  {
   "cell_type": "code",
   "execution_count": 184,
   "id": "84f547a1-267f-4d64-988f-7cc642cd411d",
   "metadata": {},
   "outputs": [],
   "source": [
    "s2 = set(\"Hello\")"
   ]
  },
  {
   "cell_type": "code",
   "execution_count": 186,
   "id": "d0dc124d-987f-4114-9dbc-92892658ca69",
   "metadata": {},
   "outputs": [
    {
     "data": {
      "text/plain": [
       "{'H', 'e', 'l', 'o'}"
      ]
     },
     "execution_count": 186,
     "metadata": {},
     "output_type": "execute_result"
    }
   ],
   "source": [
    "s2 # 문자 단위로 분해, 중복되는 값은 제거"
   ]
  },
  {
   "cell_type": "code",
   "execution_count": 188,
   "id": "310935a8-f1e8-4d5e-affe-6fd23208a399",
   "metadata": {},
   "outputs": [],
   "source": [
    "## 차집합\n",
    "\n",
    "s1 = set([1, 2, 3, 4, 5, 6])\n",
    "s2 = set([4, 5, 6, 7, 8, 9])"
   ]
  },
  {
   "cell_type": "code",
   "execution_count": 190,
   "id": "7e48009e-360c-4584-9d6a-0e08f4269557",
   "metadata": {},
   "outputs": [
    {
     "data": {
      "text/plain": [
       "{1, 2, 3}"
      ]
     },
     "execution_count": 190,
     "metadata": {},
     "output_type": "execute_result"
    }
   ],
   "source": [
    "s1-s2"
   ]
  },
  {
   "cell_type": "code",
   "execution_count": 202,
   "id": "720bcaa4-9fda-4413-94fe-2713e24ddb01",
   "metadata": {},
   "outputs": [
    {
     "data": {
      "text/plain": [
       "{1, 2, 3}"
      ]
     },
     "execution_count": 202,
     "metadata": {},
     "output_type": "execute_result"
    }
   ],
   "source": [
    "s1.difference(s2)"
   ]
  },
  {
   "cell_type": "code",
   "execution_count": 194,
   "id": "9596464c-9d0f-4dc8-b63c-8d37ce7257fa",
   "metadata": {},
   "outputs": [
    {
     "data": {
      "text/plain": [
       "{1, 2, 3, 4, 5, 6, 7, 8, 9}"
      ]
     },
     "execution_count": 194,
     "metadata": {},
     "output_type": "execute_result"
    }
   ],
   "source": [
    "## 합집합\n",
    "\n",
    "s1 | s2"
   ]
  },
  {
   "cell_type": "code",
   "execution_count": 196,
   "id": "8db319e2-8d2f-45f1-b561-a88d29086ce8",
   "metadata": {},
   "outputs": [
    {
     "data": {
      "text/plain": [
       "{1, 2, 3, 4, 5, 6, 7, 8, 9}"
      ]
     },
     "execution_count": 196,
     "metadata": {},
     "output_type": "execute_result"
    }
   ],
   "source": [
    "s1.union(s2)"
   ]
  },
  {
   "cell_type": "code",
   "execution_count": 198,
   "id": "56ce1c2c-abbb-44dc-8973-d551c642a50b",
   "metadata": {},
   "outputs": [
    {
     "data": {
      "text/plain": [
       "{4, 5, 6}"
      ]
     },
     "execution_count": 198,
     "metadata": {},
     "output_type": "execute_result"
    }
   ],
   "source": [
    "## 교집합\n",
    "\n",
    "s1& s2"
   ]
  },
  {
   "cell_type": "code",
   "execution_count": 200,
   "id": "5d17a15d-7244-4642-ade7-d54060b7f050",
   "metadata": {},
   "outputs": [
    {
     "data": {
      "text/plain": [
       "{4, 5, 6}"
      ]
     },
     "execution_count": 200,
     "metadata": {},
     "output_type": "execute_result"
    }
   ],
   "source": [
    "s1.intersection(s2)"
   ]
  },
  {
   "cell_type": "markdown",
   "id": "9e011d03-6ad4-4fab-aa67-830722d1eb04",
   "metadata": {},
   "source": [
    "### 자료형 값을 저장하는 공간 변수"
   ]
  },
  {
   "cell_type": "code",
   "execution_count": 205,
   "id": "ab95c9e8-9792-41ca-baf4-e660c08209a2",
   "metadata": {},
   "outputs": [],
   "source": [
    "a = 1\n",
    "b = \"python\"\n",
    "c = [1, 2, 3]"
   ]
  },
  {
   "cell_type": "code",
   "execution_count": 207,
   "id": "fb6a8e20-608e-4d2e-8461-5f4a9bb4db45",
   "metadata": {},
   "outputs": [
    {
     "data": {
      "text/plain": [
       "2698595347712"
      ]
     },
     "execution_count": 207,
     "metadata": {},
     "output_type": "execute_result"
    }
   ],
   "source": [
    "a = [1, 2, 3]\n",
    "id(a) # 리스트의 주소값"
   ]
  },
  {
   "cell_type": "code",
   "execution_count": 209,
   "id": "7f4bf21a-6d10-414a-bda2-b41bf5ee8450",
   "metadata": {},
   "outputs": [],
   "source": [
    "## 리스트 자료형 복사 방법\n",
    "\n",
    "a = [1, 2, 3]\n",
    "b = a # b에 a를 복사하는 것"
   ]
  },
  {
   "cell_type": "code",
   "execution_count": 211,
   "id": "99360404-7688-4b0c-879d-e7b93ec8d1a1",
   "metadata": {},
   "outputs": [],
   "source": [
    "a[1] = 4 # 4로 변경"
   ]
  },
  {
   "cell_type": "code",
   "execution_count": 213,
   "id": "aeda505c-8533-4dcc-90bb-25cf0567e028",
   "metadata": {},
   "outputs": [
    {
     "data": {
      "text/plain": [
       "[1, 4, 3]"
      ]
     },
     "execution_count": 213,
     "metadata": {},
     "output_type": "execute_result"
    }
   ],
   "source": [
    "a"
   ]
  },
  {
   "cell_type": "code",
   "execution_count": 215,
   "id": "35672ea9-3854-44c4-ab57-1501df4d1a1c",
   "metadata": {},
   "outputs": [
    {
     "data": {
      "text/plain": [
       "[1, 4, 3]"
      ]
     },
     "execution_count": 215,
     "metadata": {},
     "output_type": "execute_result"
    }
   ],
   "source": [
    "b # a의 값을 변경하자 b의 값을 자동으로 변경"
   ]
  },
  {
   "cell_type": "code",
   "execution_count": 217,
   "id": "d29e08f0-6cbe-4c8b-8939-3efa9d685827",
   "metadata": {},
   "outputs": [],
   "source": [
    "## a 리스트를 복사하더라도 b 리스트에 영향을 주지 않는 방법\n",
    "\n",
    "a = [1, 2, 3]"
   ]
  },
  {
   "cell_type": "code",
   "execution_count": 219,
   "id": "1626ed2f-f046-4890-98cc-285e4ddf2752",
   "metadata": {},
   "outputs": [],
   "source": [
    "# [:]를 활용해서 복사하기\n",
    "\n",
    "b = a[:] "
   ]
  },
  {
   "cell_type": "code",
   "execution_count": 221,
   "id": "37813f79-054e-458e-83b3-1b735af2ef2f",
   "metadata": {},
   "outputs": [
    {
     "data": {
      "text/plain": [
       "[1, 4, 3]"
      ]
     },
     "execution_count": 221,
     "metadata": {},
     "output_type": "execute_result"
    }
   ],
   "source": [
    "a[1] = 4\n",
    "a"
   ]
  },
  {
   "cell_type": "code",
   "execution_count": 223,
   "id": "941d6c8b-e655-408c-82c5-4f8a6891d3b3",
   "metadata": {},
   "outputs": [
    {
     "data": {
      "text/plain": [
       "[1, 2, 3]"
      ]
     },
     "execution_count": 223,
     "metadata": {},
     "output_type": "execute_result"
    }
   ],
   "source": [
    "b # b는 아무런 영향을 받지 않음"
   ]
  },
  {
   "cell_type": "code",
   "execution_count": 229,
   "id": "5cfd0d37-3709-4202-b8dd-39eedca1db07",
   "metadata": {},
   "outputs": [],
   "source": [
    "##  copy 모듈 사용하기\n",
    "\n",
    "from copy import copy\n",
    "a = [1, 2, 3]\n",
    "b = copy(a)"
   ]
  },
  {
   "cell_type": "code",
   "execution_count": 227,
   "id": "3c005ca3-6a32-4c7e-a503-5fab35a04ba7",
   "metadata": {},
   "outputs": [
    {
     "data": {
      "text/plain": [
       "False"
      ]
     },
     "execution_count": 227,
     "metadata": {},
     "output_type": "execute_result"
    }
   ],
   "source": [
    "b is a # b와 a가 가르키는 객체가 서로 다르다는 것을 미미"
   ]
  },
  {
   "cell_type": "code",
   "execution_count": null,
   "id": "9829ac29-f49c-4d32-bfbb-e8533884bbd9",
   "metadata": {},
   "outputs": [],
   "source": []
  },
  {
   "cell_type": "code",
   "execution_count": null,
   "id": "8968c268-f290-4320-aad1-6dd8a365769e",
   "metadata": {},
   "outputs": [],
   "source": []
  }
 ],
 "metadata": {
  "kernelspec": {
   "display_name": "Python [conda env:base] *",
   "language": "python",
   "name": "conda-base-py"
  },
  "language_info": {
   "codemirror_mode": {
    "name": "ipython",
    "version": 3
   },
   "file_extension": ".py",
   "mimetype": "text/x-python",
   "name": "python",
   "nbconvert_exporter": "python",
   "pygments_lexer": "ipython3",
   "version": "3.12.7"
  }
 },
 "nbformat": 4,
 "nbformat_minor": 5
}
