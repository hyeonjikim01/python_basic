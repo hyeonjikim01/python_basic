{
 "cells": [
  {
   "cell_type": "code",
   "execution_count": 1,
   "id": "f071e8d2-0310-492b-aded-0a2b55e64e18",
   "metadata": {},
   "outputs": [
    {
     "name": "stdout",
     "output_type": "stream",
     "text": [
      "Defaulting to user installation because normal site-packages is not writeable\n",
      "Requirement already satisfied: numpy in c:\\programdata\\anaconda3\\lib\\site-packages (1.26.4)\n"
     ]
    }
   ],
   "source": [
    "!pip install numpy"
   ]
  },
  {
   "cell_type": "code",
   "execution_count": 1,
   "id": "b6c3e04a-3be8-44ff-b05c-79716773df76",
   "metadata": {},
   "outputs": [],
   "source": [
    "import numpy as np"
   ]
  },
  {
   "cell_type": "markdown",
   "id": "94c46c6c-1468-4c79-b9d6-c1880076e826",
   "metadata": {},
   "source": [
    "### Numpy 기본 개념"
   ]
  },
  {
   "cell_type": "code",
   "execution_count": 6,
   "id": "6ad3a22f-0c80-4238-8693-935d4faf9fe3",
   "metadata": {},
   "outputs": [],
   "source": [
    "## 1차원 데이터\n",
    "\n",
    "test_array = np.array([1, 4, 5, 8], float) # 실수형으로"
   ]
  },
  {
   "cell_type": "code",
   "execution_count": 8,
   "id": "67f4fa15-35f7-401a-9ee5-a419208a7a5c",
   "metadata": {},
   "outputs": [
    {
     "name": "stdout",
     "output_type": "stream",
     "text": [
      "[1. 4. 5. 8.]\n"
     ]
    }
   ],
   "source": [
    "print(test_array)"
   ]
  },
  {
   "cell_type": "code",
   "execution_count": 10,
   "id": "2a5b9b76-86b9-42cd-8db1-b88b252c0959",
   "metadata": {},
   "outputs": [
    {
     "name": "stdout",
     "output_type": "stream",
     "text": [
      "float64\n"
     ]
    }
   ],
   "source": [
    "print(test_array.dtype) # .dypte는 데이터 타입 출력"
   ]
  },
  {
   "cell_type": "code",
   "execution_count": 12,
   "id": "19fabad3-f06c-473b-8b83-7b0f711770f4",
   "metadata": {},
   "outputs": [
    {
     "name": "stdout",
     "output_type": "stream",
     "text": [
      "(4,)\n"
     ]
    }
   ],
   "source": [
    "print(test_array.shape) # .shape는 배열의 차원 구조 출력 (행 개수, 열 개수)"
   ]
  },
  {
   "cell_type": "code",
   "execution_count": 14,
   "id": "3f3111ce-e021-4e33-88b1-8d0482b4651c",
   "metadata": {},
   "outputs": [
    {
     "data": {
      "text/plain": [
       "(3, 4)"
      ]
     },
     "execution_count": 14,
     "metadata": {},
     "output_type": "execute_result"
    }
   ],
   "source": [
    "## 2차원 데이터\n",
    "\n",
    "test_matrix = [[1, 2, 5, 8], [1, 2, 4, 8], [1, 2, 5, 8]]\n",
    "np.array(test_matrix, int).shape"
   ]
  },
  {
   "cell_type": "code",
   "execution_count": 3,
   "id": "84e40540-5e34-4af8-ad0c-0a8d2d85df89",
   "metadata": {},
   "outputs": [
    {
     "data": {
      "text/plain": [
       "array([[1, 2, 3],\n",
       "       [4, 5, 6]])"
      ]
     },
     "execution_count": 3,
     "metadata": {},
     "output_type": "execute_result"
    }
   ],
   "source": [
    "## 넘파이 데이터의 타입 변환\n",
    "# 정수형을 float로 지정하면 모든 데이터가 정수형으로 저장되어, 소수점 데이터가 손실됨\n",
    "\n",
    "np.array([[1, 2, 3.5], [4, 5, 6.5]], dtype = int)"
   ]
  },
  {
   "cell_type": "code",
   "execution_count": 5,
   "id": "4343adb4-052a-4d13-a1af-6b37c4f168c9",
   "metadata": {},
   "outputs": [
    {
     "data": {
      "text/plain": [
       "array([[1. , 2. , 3.5],\n",
       "       [4. , 5. , 6.5]])"
      ]
     },
     "execution_count": 5,
     "metadata": {},
     "output_type": "execute_result"
    }
   ],
   "source": [
    "np.array([[1, 2, 3.5], [4, 5, 6.5]], dtype = float)"
   ]
  },
  {
   "cell_type": "code",
   "execution_count": 13,
   "id": "8b812cb1-b4ec-4c11-93eb-f6e99ff444f7",
   "metadata": {},
   "outputs": [],
   "source": [
    "## 데이터 배열 변환\n",
    "\n",
    "x = np.array([[1, 2,5 ,8], [1, 2, 5, 8]])"
   ]
  },
  {
   "cell_type": "code",
   "execution_count": 11,
   "id": "18e869c9-cdbc-4ce1-b762-07959993971b",
   "metadata": {},
   "outputs": [
    {
     "name": "stdout",
     "output_type": "stream",
     "text": [
      "[1 2 5 8 1 2 5 8]\n"
     ]
    }
   ],
   "source": [
    "## flatten 데이터 그대로 1차원으로 변경\n",
    "\n",
    "x = x.flatten()\n",
    "print(x)"
   ]
  },
  {
   "cell_type": "code",
   "execution_count": 15,
   "id": "92d44b02-678b-4fd6-b265-e61c72934f6b",
   "metadata": {},
   "outputs": [
    {
     "name": "stdout",
     "output_type": "stream",
     "text": [
      "[[1 2 5 8]\n",
      " [1 2 5 8]]\n"
     ]
    }
   ],
   "source": [
    "## reshape를 사용하면 전체 요소 개수 고려해서 마지막 차원이 자동으로 지정\n",
    "\n",
    "x = x.reshape(2, -1)\n",
    "print(x)"
   ]
  },
  {
   "cell_type": "code",
   "execution_count": 17,
   "id": "7166009b-4557-4d1c-a424-2a09662dcd1d",
   "metadata": {},
   "outputs": [],
   "source": [
    "## range\n",
    "# 0부터 24까지 2씩 증가하는 numpy array\n",
    "\n",
    "x = np.array(range(0, 25, 2))"
   ]
  },
  {
   "cell_type": "code",
   "execution_count": 19,
   "id": "c4b3b4be-f81e-4cbd-a0bb-d997fd9254b8",
   "metadata": {},
   "outputs": [
    {
     "data": {
      "text/plain": [
       "array([ 0,  2,  4,  6,  8, 10, 12, 14, 16, 18, 20, 22, 24])"
      ]
     },
     "execution_count": 19,
     "metadata": {},
     "output_type": "execute_result"
    }
   ],
   "source": [
    "x"
   ]
  },
  {
   "cell_type": "code",
   "execution_count": 31,
   "id": "3eb5969a-fc11-45ab-a4d3-d57c0c98c4a6",
   "metadata": {},
   "outputs": [],
   "source": [
    "# 24부터 0까지 2씩 감소하는 numpy array\n",
    "\n",
    "x = np.array(range(24, -1, -2))"
   ]
  },
  {
   "cell_type": "code",
   "execution_count": 33,
   "id": "37d1ad58-b20f-4e53-9d09-2ae15e7aa5fc",
   "metadata": {},
   "outputs": [
    {
     "data": {
      "text/plain": [
       "array([24, 22, 20, 18, 16, 14, 12, 10,  8,  6,  4,  2,  0])"
      ]
     },
     "execution_count": 33,
     "metadata": {},
     "output_type": "execute_result"
    }
   ],
   "source": [
    "x"
   ]
  },
  {
   "cell_type": "code",
   "execution_count": 37,
   "id": "531e93e6-6bc6-4b01-8625-4cc317b28c21",
   "metadata": {},
   "outputs": [
    {
     "name": "stdout",
     "output_type": "stream",
     "text": [
      "[[ 0  1  2  3  4]\n",
      " [ 5  6  7  8  9]\n",
      " [10 11 12 13 14]]\n"
     ]
    }
   ],
   "source": [
    "x = np.array(range(15))\n",
    "x = x.reshape(3, -1) # 형태 변환\n",
    "print(x)"
   ]
  },
  {
   "cell_type": "code",
   "execution_count": 39,
   "id": "b2cb5277-8e64-48f5-9100-49102c829760",
   "metadata": {},
   "outputs": [
    {
     "data": {
      "text/plain": [
       "array([[ 0,  2,  4],\n",
       "       [ 5,  7,  9],\n",
       "       [10, 12, 14]])"
      ]
     },
     "execution_count": 39,
     "metadata": {},
     "output_type": "execute_result"
    }
   ],
   "source": [
    "x[:, ::2] # 행 전체, 열은 2씩 증가하는 것만 가져오기"
   ]
  },
  {
   "cell_type": "code",
   "execution_count": 41,
   "id": "ab02ba79-3526-4c96-b647-0620d16bf41d",
   "metadata": {},
   "outputs": [
    {
     "ename": "AttributeError",
     "evalue": "module 'numpy' has no attribute 'range'",
     "output_type": "error",
     "traceback": [
      "\u001b[1;31m---------------------------------------------------------------------------\u001b[0m",
      "\u001b[1;31mAttributeError\u001b[0m                            Traceback (most recent call last)",
      "Cell \u001b[1;32mIn[41], line 1\u001b[0m\n\u001b[1;32m----> 1\u001b[0m np\u001b[38;5;241m.\u001b[39mrange(\u001b[38;5;241m0\u001b[39m, \u001b[38;5;241m5\u001b[39m, \u001b[38;5;241m0.5\u001b[39m)\n",
      "File \u001b[1;32mC:\\ProgramData\\anaconda3\\Lib\\site-packages\\numpy\\__init__.py:333\u001b[0m, in \u001b[0;36m__getattr__\u001b[1;34m(attr)\u001b[0m\n\u001b[0;32m    330\u001b[0m     \u001b[38;5;124m\"\u001b[39m\u001b[38;5;124mRemoved in NumPy 1.25.0\u001b[39m\u001b[38;5;124m\"\u001b[39m\n\u001b[0;32m    331\u001b[0m     \u001b[38;5;28;01mraise\u001b[39;00m \u001b[38;5;167;01mRuntimeError\u001b[39;00m(\u001b[38;5;124m\"\u001b[39m\u001b[38;5;124mTester was removed in NumPy 1.25.\u001b[39m\u001b[38;5;124m\"\u001b[39m)\n\u001b[1;32m--> 333\u001b[0m \u001b[38;5;28;01mraise\u001b[39;00m \u001b[38;5;167;01mAttributeError\u001b[39;00m(\u001b[38;5;124m\"\u001b[39m\u001b[38;5;124mmodule \u001b[39m\u001b[38;5;132;01m{!r}\u001b[39;00m\u001b[38;5;124m has no attribute \u001b[39m\u001b[38;5;124m\"\u001b[39m\n\u001b[0;32m    334\u001b[0m                      \u001b[38;5;124m\"\u001b[39m\u001b[38;5;132;01m{!r}\u001b[39;00m\u001b[38;5;124m\"\u001b[39m\u001b[38;5;241m.\u001b[39mformat(\u001b[38;5;18m__name__\u001b[39m, attr))\n",
      "\u001b[1;31mAttributeError\u001b[0m: module 'numpy' has no attribute 'range'"
     ]
    }
   ],
   "source": [
    "np.range(0, 5, 0.5) # 에러"
   ]
  },
  {
   "cell_type": "code",
   "execution_count": 43,
   "id": "44a93345-43a5-46d2-8fb9-f9136cc7982a",
   "metadata": {},
   "outputs": [
    {
     "data": {
      "text/plain": [
       "array([0. , 0.5, 1. , 1.5, 2. , 2.5, 3. , 3.5, 4. , 4.5])"
      ]
     },
     "execution_count": 43,
     "metadata": {},
     "output_type": "execute_result"
    }
   ],
   "source": [
    "np.arange(0, 5, 0.5) # step에 소수 가능"
   ]
  },
  {
   "cell_type": "code",
   "execution_count": 55,
   "id": "09d757a4-4496-4061-ae35-7a9c8f8601eb",
   "metadata": {},
   "outputs": [
    {
     "data": {
      "text/plain": [
       "array([[1, 1],\n",
       "       [1, 1],\n",
       "       [1, 1],\n",
       "       [1, 1],\n",
       "       [1, 1]], dtype=int8)"
      ]
     },
     "execution_count": 55,
     "metadata": {},
     "output_type": "execute_result"
    }
   ],
   "source": [
    "np.ones(shape = (5, 2), dtype = np.int8)"
   ]
  },
  {
   "cell_type": "code",
   "execution_count": 59,
   "id": "cfbd3303-5a48-4ff3-8ee8-f4557b891c2b",
   "metadata": {},
   "outputs": [
    {
     "data": {
      "text/plain": [
       "array([[0., 0.],\n",
       "       [0., 0.]], dtype=float32)"
      ]
     },
     "execution_count": 59,
     "metadata": {},
     "output_type": "execute_result"
    }
   ],
   "source": [
    "np.zeros(shape = (2, 2), dtype = np.float32)"
   ]
  },
  {
   "cell_type": "code",
   "execution_count": 61,
   "id": "eb17ee45-e0e6-47b1-87c1-72ebb2e485f6",
   "metadata": {},
   "outputs": [
    {
     "data": {
      "text/plain": [
       "array([[1.4e-45, 2.8e-45, 7.0e-45, 1.1e-44],\n",
       "       [1.4e-45, 2.8e-45, 7.0e-45, 1.1e-44]], dtype=float32)"
      ]
     },
     "execution_count": 61,
     "metadata": {},
     "output_type": "execute_result"
    }
   ],
   "source": [
    "np.empty(shape = (2, 4), dtype = np.float32)"
   ]
  },
  {
   "cell_type": "code",
   "execution_count": null,
   "id": "8ebabb45-d18b-4f33-afd1-dd219a270dc1",
   "metadata": {},
   "outputs": [],
   "source": []
  },
  {
   "cell_type": "code",
   "execution_count": null,
   "id": "6e92645c-dca0-455a-ae14-9f1bc782fe6d",
   "metadata": {},
   "outputs": [],
   "source": []
  },
  {
   "cell_type": "code",
   "execution_count": 47,
   "id": "0d768eb5-4a57-4733-8102-7ff8200d5d05",
   "metadata": {},
   "outputs": [
    {
     "name": "stdout",
     "output_type": "stream",
     "text": [
      "[[1. 0. 0.]\n",
      " [0. 1. 0.]\n",
      " [0. 0. 1.]]\n"
     ]
    }
   ],
   "source": [
    "## 3x3 identity matrix\n",
    "a = np.identity(3)\n",
    "print(a)"
   ]
  },
  {
   "cell_type": "code",
   "execution_count": 51,
   "id": "9510cc36-9763-4bf0-a7db-f87230247f8c",
   "metadata": {},
   "outputs": [
    {
     "name": "stdout",
     "output_type": "stream",
     "text": [
      "[[1. 0. 0. 0. 0.]\n",
      " [0. 1. 0. 0. 0.]\n",
      " [0. 0. 1. 0. 0.]]\n"
     ]
    }
   ],
   "source": [
    "# 3x5 identity-like matrix\n",
    "b = np.eye(3, 5)\n",
    "print(b)"
   ]
  },
  {
   "cell_type": "code",
   "execution_count": 63,
   "id": "8831ac6d-0a92-4c8f-8133-0c001d1df5f5",
   "metadata": {},
   "outputs": [
    {
     "name": "stdout",
     "output_type": "stream",
     "text": [
      "[[0. 1. 0. 0. 0.]\n",
      " [0. 0. 1. 0. 0.]\n",
      " [0. 0. 0. 1. 0.]]\n"
     ]
    }
   ],
   "source": [
    "c = np.eye(3, 5, 1) # 1을 우측으로 1씩 이동\n",
    "print(c)"
   ]
  },
  {
   "cell_type": "code",
   "execution_count": null,
   "id": "80f78662-4833-435b-811f-0271089b8d30",
   "metadata": {},
   "outputs": [],
   "source": []
  }
 ],
 "metadata": {
  "kernelspec": {
   "display_name": "Python [conda env:base] *",
   "language": "python",
   "name": "conda-base-py"
  },
  "language_info": {
   "codemirror_mode": {
    "name": "ipython",
    "version": 3
   },
   "file_extension": ".py",
   "mimetype": "text/x-python",
   "name": "python",
   "nbconvert_exporter": "python",
   "pygments_lexer": "ipython3",
   "version": "3.12.7"
  }
 },
 "nbformat": 4,
 "nbformat_minor": 5
}
