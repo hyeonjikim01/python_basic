{
 "cells": [
  {
   "cell_type": "markdown",
   "id": "bdb52336-f285-448b-abc7-6424287e452d",
   "metadata": {},
   "source": [
    "## 제어문"
   ]
  },
  {
   "cell_type": "markdown",
   "id": "2ff0d9f3-f51b-4c4a-a2ae-f7ac3fee2068",
   "metadata": {},
   "source": [
    "### 조건문"
   ]
  },
  {
   "cell_type": "code",
   "execution_count": 3,
   "id": "9f2557e6-1c5b-4c46-89c5-21d4af2caade",
   "metadata": {},
   "outputs": [
    {
     "name": "stdout",
     "output_type": "stream",
     "text": [
      "택시를 타고 가라\n"
     ]
    }
   ],
   "source": [
    "## if문\n",
    "## if 조건:\n",
    "##    실행할_코드\n",
    "\n",
    "\n",
    "money = True\n",
    "if  money:\n",
    "    print(\"택시를 타고 가라\")\n",
    "else:\n",
    "    print(\"걸어가라\")"
   ]
  },
  {
   "cell_type": "code",
   "execution_count": 5,
   "id": "e8ed77d8-2ae5-4077-89be-4f2ff8060bad",
   "metadata": {},
   "outputs": [
    {
     "name": "stdout",
     "output_type": "stream",
     "text": [
      "걸어가라\n"
     ]
    }
   ],
   "source": [
    "# 만약 3000원 이상의 돈을 가지고 있으면 택시를 타고 가고, 그렇지 않으면 걸어가라\n",
    "\n",
    "money = 2000\n",
    "if money >= 3000:\n",
    "    print(\"택시를 타고 가라\")\n",
    "else:\n",
    "    print(\"걸어가라\")"
   ]
  },
  {
   "cell_type": "code",
   "execution_count": 7,
   "id": "29a876d7-2c30-4eb6-b0fa-b123a85a22bf",
   "metadata": {},
   "outputs": [
    {
     "name": "stdout",
     "output_type": "stream",
     "text": [
      "택시를 타고 가라\n"
     ]
    }
   ],
   "source": [
    "# 돈이 3000원 이상 있거나 카드가 있다면 택시를 타고 가고, 그렇지 않으면 걸어가라\n",
    "\n",
    "money = 2000\n",
    "card = True\n",
    "\n",
    "if money >= 3000 or card:\n",
    "    print(\"택시를 타고 가라\")\n",
    "else:\n",
    "    print(\"걸어가라\")"
   ]
  },
  {
   "cell_type": "code",
   "execution_count": 9,
   "id": "902a5259-61be-4601-97c3-45c31ea39d68",
   "metadata": {},
   "outputs": [],
   "source": [
    "## elif문\n",
    "\n",
    "## if 조건1:\n",
    "##    실행할 코드1\n",
    "## elif 조건2:\n",
    "##    실행할 코드2\n",
    "## elif 조건3:\n",
    "##    실행할 코드3\n",
    "## else:\n",
    "##    모든 조건이 거짓일 때 실행할 코드"
   ]
  },
  {
   "cell_type": "code",
   "execution_count": 11,
   "id": "4fdc653e-e197-4d62-a69c-c1178d0b2a41",
   "metadata": {},
   "outputs": [
    {
     "name": "stdout",
     "output_type": "stream",
     "text": [
      "택시를 타고가라\n"
     ]
    }
   ],
   "source": [
    "pocket = ['paper', 'cellphone']\n",
    "card = True\n",
    "if 'money' in pocket:\n",
    "    print(\"택시를 타고가라\")\n",
    "elif card:\n",
    "    print(\"택시를 타고가라\")\n",
    "else:\n",
    "    print(\"걸어가라\")"
   ]
  },
  {
   "cell_type": "markdown",
   "id": "fe7b6a4b-9bd6-4063-b3c5-c30598adc08b",
   "metadata": {},
   "source": [
    "### while문\n",
    "- 조건문이 참인 동안 while 문에 속한 문장들이 반복해서 수행"
   ]
  },
  {
   "cell_type": "code",
   "execution_count": 4,
   "id": "245441e1-fa81-4231-bf16-960e6ad193f7",
   "metadata": {},
   "outputs": [
    {
     "name": "stdout",
     "output_type": "stream",
     "text": [
      "나무를 1번 찍었습니다.\n",
      "나무를 2번 찍었습니다.\n",
      "나무를 3번 찍었습니다.\n",
      "나무를 4번 찍었습니다.\n",
      "나무를 5번 찍었습니다.\n",
      "나무를 6번 찍었습니다.\n",
      "나무를 7번 찍었습니다.\n",
      "나무를 8번 찍었습니다.\n",
      "나무를 9번 찍었습니다.\n",
      "나무를 10번 찍었습니다.\n",
      "나무 넘어갑니다.\n"
     ]
    }
   ],
   "source": [
    "## while 조건식:\n",
    "##     실행할 코드\n",
    "\n",
    "treeHit = 0\n",
    "while treeHit < 10:\n",
    "    treeHit = treeHit +1\n",
    "    print(\"나무를 %d번 찍었습니다.\" % treeHit)\n",
    "    if treeHit == 10:\n",
    "        print(\"나무 넘어갑니다.\")"
   ]
  },
  {
   "cell_type": "code",
   "execution_count": 6,
   "id": "af58a352-b35d-44cc-85de-da7a5d1f7397",
   "metadata": {},
   "outputs": [
    {
     "name": "stdout",
     "output_type": "stream",
     "text": [
      "돈을 받았으니 커피를 줍니다.\n",
      "남은 커피의 양은 9개입니다.\n",
      "돈을 받았으니 커피를 줍니다.\n",
      "남은 커피의 양은 8개입니다.\n",
      "돈을 받았으니 커피를 줍니다.\n",
      "남은 커피의 양은 7개입니다.\n",
      "돈을 받았으니 커피를 줍니다.\n",
      "남은 커피의 양은 6개입니다.\n",
      "돈을 받았으니 커피를 줍니다.\n",
      "남은 커피의 양은 5개입니다.\n",
      "돈을 받았으니 커피를 줍니다.\n",
      "남은 커피의 양은 4개입니다.\n",
      "돈을 받았으니 커피를 줍니다.\n",
      "남은 커피의 양은 3개입니다.\n",
      "돈을 받았으니 커피를 줍니다.\n",
      "남은 커피의 양은 2개입니다.\n",
      "돈을 받았으니 커피를 줍니다.\n",
      "남은 커피의 양은 1개입니다.\n",
      "돈을 받았으니 커피를 줍니다.\n",
      "남은 커피의 양은 0개입니다.\n",
      "커피가 다 떨어졌습니다. 판매를 중지합니다.\n"
     ]
    }
   ],
   "source": [
    "## break \n",
    "## while문을 빠져나가고 싶을 때 사용\n",
    "\n",
    "coffee = 10\n",
    "money = 300\n",
    "while money:\n",
    "  print(\"돈을 받았으니 커피를 줍니다.\")\n",
    "  coffee = coffee -1\n",
    "  print(\"남은 커피의 양은 %d개입니다.\" % coffee)\n",
    "  if coffee == 0:\n",
    "    print(\"커피가 다 떨어졌습니다. 판매를 중지합니다.\")\n",
    "    break"
   ]
  },
  {
   "cell_type": "code",
   "execution_count": 8,
   "id": "772f500f-a382-4804-b10b-873c48f87b97",
   "metadata": {},
   "outputs": [
    {
     "name": "stdout",
     "output_type": "stream",
     "text": [
      "1\n",
      "3\n",
      "5\n",
      "7\n",
      "9\n"
     ]
    }
   ],
   "source": [
    "## continue\n",
    "## while문의 맨 처음으로 다시 돌아가게 만들고 싶은 경우에 사용\n",
    "\n",
    "# 홀수만 출력하기\n",
    "a = 0\n",
    "while a < 10:\n",
    "  a = a + 1\n",
    "  if a % 2 == 0: continue # 짝수면 print를 하지말고 다시 while 조건문으로 가라는 뜻\n",
    "  print(a)"
   ]
  },
  {
   "cell_type": "code",
   "execution_count": 10,
   "id": "255473de-9839-416c-aebf-d21f97fabf64",
   "metadata": {},
   "outputs": [],
   "source": [
    "## 무한루프\n",
    "## while True:\n",
    "##   print(\"Ctrl+C를 눌러야 while문을 빠져나갈 수 있습니다.\")"
   ]
  },
  {
   "cell_type": "code",
   "execution_count": 12,
   "id": "33972011-9f5d-4457-8e0c-58221b5d417b",
   "metadata": {},
   "outputs": [
    {
     "name": "stdout",
     "output_type": "stream",
     "text": [
      "We have apple.\n",
      "We have banana.\n",
      "We have dragonfruit.\n",
      "We have grapefruit.\n"
     ]
    }
   ],
   "source": [
    "fruits = ['apple', 'banana', 'dragonfruit', 'grapefruit']\n",
    "N = len(fruits) # 원소의 갯수 4\n",
    "i = 0\n",
    "\n",
    "while i < N: # 4보다 작아야 함으로 i = 0, 1, 2, 3이 될 수 있음\n",
    "    print(\"We have %s.\" % fruits[i]) # i = 0이면 fruits[0]은 apple\n",
    "    i += 1  # i = i + 1"
   ]
  },
  {
   "cell_type": "markdown",
   "id": "87bb5ab5-2783-4bd1-a8a8-19f3f7e5edfa",
   "metadata": {},
   "source": [
    "### for문"
   ]
  },
  {
   "cell_type": "code",
   "execution_count": 15,
   "id": "8e857e36-e297-4b23-ab60-301a541c534f",
   "metadata": {},
   "outputs": [
    {
     "name": "stdout",
     "output_type": "stream",
     "text": [
      "one\n",
      "two\n",
      "three\n"
     ]
    }
   ],
   "source": [
    "## for문의 기본 구조\n",
    "\n",
    "test_list = ['one', 'two', 'three']\n",
    "for i in test_list:\n",
    "  print(i)"
   ]
  },
  {
   "cell_type": "code",
   "execution_count": 17,
   "id": "f806be6f-2d57-4df2-83ae-e26f27fc798c",
   "metadata": {},
   "outputs": [
    {
     "name": "stdout",
     "output_type": "stream",
     "text": [
      "3\n",
      "7\n",
      "11\n"
     ]
    }
   ],
   "source": [
    "a = [(1,2), (3,4), (5,6)]\n",
    "\n",
    "for (first, last) in a: # a안에 있는 튜플\n",
    "  print(first + last)"
   ]
  },
  {
   "cell_type": "code",
   "execution_count": 19,
   "id": "d1c81efd-b8f2-43d5-af95-7048d5fa278b",
   "metadata": {},
   "outputs": [
    {
     "name": "stdout",
     "output_type": "stream",
     "text": [
      "1번 학생은 합격입니다.\n",
      "2번 학생은 불합격입니다.\n",
      "3번 학생은 합격입니다.\n",
      "4번 학생은 불합격입니다.\n",
      "5번 학생은 합격입니다.\n"
     ]
    }
   ],
   "source": [
    "## 예제: 학생 합격 통보 프로그램\n",
    "\n",
    "marks = [90, 25, 67, 45, 80]   # 학생들의 시험 점수 리스트\n",
    "\n",
    "number = 0   # 학생에게 붙여 줄 번호\n",
    "for mark in marks:   # 90, 25, 67, 45, 80을 순서대로 mark에 대입\n",
    "    number = number +1\n",
    "    if mark >= 60:\n",
    "        print(\"%d번 학생은 합격입니다.\" % number)\n",
    "    else:\n",
    "        print(\"%d번 학생은 불합격입니다.\" % number)"
   ]
  },
  {
   "cell_type": "code",
   "execution_count": 21,
   "id": "9d26da43-8481-4b29-a15c-924737c2b208",
   "metadata": {},
   "outputs": [
    {
     "name": "stdout",
     "output_type": "stream",
     "text": [
      "1번 학생 축하합니다. 합격입니다. \n",
      "3번 학생 축하합니다. 합격입니다. \n",
      "5번 학생 축하합니다. 합격입니다. \n"
     ]
    }
   ],
   "source": [
    "## continue\n",
    "\n",
    "marks = [90, 25, 67, 45, 80]\n",
    "\n",
    "number = 0\n",
    "for mark in marks:\n",
    "    number = number +1\n",
    "    if mark < 60: # 60점 미만이면\n",
    "        continue # 처음 for문으로 돌아감\n",
    "    print(\"%d번 학생 축하합니다. 합격입니다. \" % number)"
   ]
  },
  {
   "cell_type": "code",
   "execution_count": 23,
   "id": "328319c1-778b-4de8-97b7-c4f9253bbee6",
   "metadata": {},
   "outputs": [],
   "source": [
    "## range 함수\n",
    "\n",
    "a = range(1, 11) # 1~10까지"
   ]
  },
  {
   "cell_type": "code",
   "execution_count": 27,
   "id": "3826d0e6-0732-4e29-a89c-09e4c1c7f1d5",
   "metadata": {},
   "outputs": [
    {
     "name": "stdout",
     "output_type": "stream",
     "text": [
      "1\n",
      "3\n",
      "6\n",
      "10\n",
      "15\n",
      "21\n",
      "28\n",
      "36\n",
      "45\n",
      "55\n"
     ]
    }
   ],
   "source": [
    "add = 0\n",
    "for i in range(1, 11):\n",
    "  add = add + i \n",
    "  print(add) # 누적 값을 보여주는 것"
   ]
  },
  {
   "cell_type": "code",
   "execution_count": null,
   "id": "ce1faf68-5533-4a1b-8dc7-de509440f74f",
   "metadata": {},
   "outputs": [],
   "source": []
  },
  {
   "cell_type": "code",
   "execution_count": 29,
   "id": "04107fae-8a60-4783-858c-a13a30ded2fc",
   "metadata": {},
   "outputs": [
    {
     "name": "stdout",
     "output_type": "stream",
     "text": [
      "2 \n",
      "4 \n",
      "6 \n",
      "8 \n",
      "10 \n",
      "12 \n",
      "14 \n",
      "16 \n",
      "18 \n",
      "3 \n",
      "6 \n",
      "9 \n",
      "12 \n",
      "15 \n",
      "18 \n",
      "21 \n",
      "24 \n",
      "27 \n",
      "4 \n",
      "8 \n",
      "12 \n",
      "16 \n",
      "20 \n",
      "24 \n",
      "28 \n",
      "32 \n",
      "36 \n",
      "5 \n",
      "10 \n",
      "15 \n",
      "20 \n",
      "25 \n",
      "30 \n",
      "35 \n",
      "40 \n",
      "45 \n",
      "6 \n",
      "12 \n",
      "18 \n",
      "24 \n",
      "30 \n",
      "36 \n",
      "42 \n",
      "48 \n",
      "54 \n",
      "7 \n",
      "14 \n",
      "21 \n",
      "28 \n",
      "35 \n",
      "42 \n",
      "49 \n",
      "56 \n",
      "63 \n",
      "8 \n",
      "16 \n",
      "24 \n",
      "32 \n",
      "40 \n",
      "48 \n",
      "56 \n",
      "64 \n",
      "72 \n",
      "9 \n",
      "18 \n",
      "27 \n",
      "36 \n",
      "45 \n",
      "54 \n",
      "63 \n",
      "72 \n",
      "81 \n"
     ]
    }
   ],
   "source": [
    "for i in range(2,10):       # 2~9\n",
    "  for j in range(1, 10):   # 1~10\n",
    "    print(i*j, end=\" \")\n",
    "    print('')"
   ]
  },
  {
   "cell_type": "code",
   "execution_count": 33,
   "id": "5434ba9c-d571-45bc-8899-9b648838340c",
   "metadata": {},
   "outputs": [
    {
     "name": "stdout",
     "output_type": "stream",
     "text": [
      "2 4 6 8 10 12 14 16 18 \n",
      "3 6 9 12 15 18 21 24 27 \n",
      "4 8 12 16 20 24 28 32 36 \n",
      "5 10 15 20 25 30 35 40 45 \n",
      "6 12 18 24 30 36 42 48 54 \n",
      "7 14 21 28 35 42 49 56 63 \n",
      "8 16 24 32 40 48 56 64 72 \n",
      "9 18 27 36 45 54 63 72 81 \n"
     ]
    }
   ],
   "source": [
    "## 구구단 한 단이 끝날 때마다 줄 바꿈하고 싶다면?\n",
    "for i in range(2,10):       # 2~9\n",
    "  for j in range(1, 10):   # 1~9\n",
    "    print(i*j, end=\" \")\n",
    "  print('')"
   ]
  },
  {
   "cell_type": "code",
   "execution_count": 35,
   "id": "55626e3b-36d0-45d0-9922-15acb3f98f61",
   "metadata": {},
   "outputs": [
    {
     "name": "stdout",
     "output_type": "stream",
     "text": [
      "[3, 6, 9, 12]\n"
     ]
    }
   ],
   "source": [
    "## 리스트 컴프리헨션 사용하기\n",
    "\n",
    "    # a의 인자에 3을 곱하고 싶다면?\n",
    "a = [1,2,3,4]\n",
    "result = [num * 3 for num in a]\n",
    "print(result)"
   ]
  },
  {
   "cell_type": "code",
   "execution_count": 37,
   "id": "4f7e0dff-054c-4474-a3c2-afdfd52d21a3",
   "metadata": {},
   "outputs": [
    {
     "name": "stdout",
     "output_type": "stream",
     "text": [
      "[6, 12]\n"
     ]
    }
   ],
   "source": [
    "    # 짝수에만 3을 곱하고 싶다면?\n",
    "a = [1,2,3,4]\n",
    "result = [num * 3 for num in a if num % 2 == 0]\n",
    "print(result)"
   ]
  },
  {
   "cell_type": "code",
   "execution_count": 39,
   "id": "b0cb0a99-0e61-474a-8583-e384296f0317",
   "metadata": {},
   "outputs": [
    {
     "name": "stdout",
     "output_type": "stream",
     "text": [
      "[3, 6, 9, 12]\n"
     ]
    }
   ],
   "source": [
    "a = [1,2,3,4]\n",
    "result = []\n",
    "for num in a:\n",
    "  result.append(num*3)\n",
    "print(result)"
   ]
  },
  {
   "cell_type": "code",
   "execution_count": 41,
   "id": "c9546b9e-390b-43b7-bea1-f07b7185307f",
   "metadata": {},
   "outputs": [
    {
     "name": "stdout",
     "output_type": "stream",
     "text": [
      "i =  5\n",
      "num_idx =  4\n"
     ]
    }
   ],
   "source": [
    "## 연습문제1\n",
    "\n",
    "myNumber = [1, 3, 5, 7]\n",
    "\n",
    "num_idx = 0\n",
    "for i in myNumber:\n",
    "    num_idx = num_idx + 1 # 이 문장은 for문에서 항상 실행되기 때문에 총 4번 반복해서 num_idx = 4가 나옴\n",
    "    if i == 5:\n",
    "        print('i = ', i)\n",
    "    else:\n",
    "        continue\n",
    "print('num_idx = ', num_idx)"
   ]
  },
  {
   "cell_type": "code",
   "execution_count": 43,
   "id": "fb114ef9-7c59-4f43-a609-1954bcaa776d",
   "metadata": {},
   "outputs": [
    {
     "name": "stdout",
     "output_type": "stream",
     "text": [
      "num_idx using range =  0\n"
     ]
    }
   ],
   "source": [
    "## 연습문제2\n",
    "\n",
    "myNumber = [1, 3, 5, 7]\n",
    "\n",
    "num_idx = 0\n",
    "for i in range(len(myNumber)): # len(myNumber)는 4, 따라서 i는 0, 1, 2, 3\n",
    "    if i == 5: # i = 5가 나올 수 없음\n",
    "        print('i = ', i)\n",
    "        num_idx = num_idx + 1\n",
    "    else:\n",
    "        continue\n",
    "print('num_idx using range = ', num_idx) # 그래서 최종적으로 num_idx = 0"
   ]
  },
  {
   "cell_type": "code",
   "execution_count": 45,
   "id": "76ef5d23-a5f0-4306-9033-38ffcf4955f9",
   "metadata": {},
   "outputs": [
    {
     "name": "stdout",
     "output_type": "stream",
     "text": [
      "sum =  34\n"
     ]
    }
   ],
   "source": [
    "## 연습문제3\n",
    "\n",
    "myArr = [1, 3, 7, 9, 11, 13, 15]\n",
    "\n",
    "sum = 0\n",
    "i_idx = 0\n",
    "while i_idx < len(myArr): # len(myArr) = 7이므로 i_idx가 0~6\n",
    "    if i_idx % 2 == 0: # 짝수이면 성립 -> i_idx = 0, 2, 4, 6\n",
    "        sum += myArr[i_idx]\n",
    "    i_idx += 1\n",
    "print('sum = ', sum)"
   ]
  },
  {
   "cell_type": "code",
   "execution_count": null,
   "id": "54d5c237-13b9-4c37-b325-cc4a7acf680f",
   "metadata": {},
   "outputs": [],
   "source": []
  }
 ],
 "metadata": {
  "kernelspec": {
   "display_name": "Python [conda env:base] *",
   "language": "python",
   "name": "conda-base-py"
  },
  "language_info": {
   "codemirror_mode": {
    "name": "ipython",
    "version": 3
   },
   "file_extension": ".py",
   "mimetype": "text/x-python",
   "name": "python",
   "nbconvert_exporter": "python",
   "pygments_lexer": "ipython3",
   "version": "3.12.7"
  }
 },
 "nbformat": 4,
 "nbformat_minor": 5
}
