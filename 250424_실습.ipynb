{
 "cells": [
  {
   "cell_type": "markdown",
   "id": "6b879da9-e97a-474a-8adf-db96e3bc8838",
   "metadata": {},
   "source": [
    "## 0424_기초 파이썬 프로그래밍(1)"
   ]
  },
  {
   "cell_type": "markdown",
   "id": "0cd4f81c-c453-4847-839d-6c08e51942c4",
   "metadata": {},
   "source": [
    "### 파이썬 둘러보기"
   ]
  },
  {
   "cell_type": "markdown",
   "id": "6d68d5a2-000f-47ae-be07-16844f63b02f",
   "metadata": {},
   "source": [
    "#### 사칙연산"
   ]
  },
  {
   "cell_type": "code",
   "execution_count": 1,
   "id": "ff8cd329-d10c-4bdc-807f-d2f54930ad6d",
   "metadata": {},
   "outputs": [
    {
     "data": {
      "text/plain": [
       "2"
      ]
     },
     "execution_count": 1,
     "metadata": {},
     "output_type": "execute_result"
    }
   ],
   "source": [
    "1+1"
   ]
  },
  {
   "cell_type": "code",
   "execution_count": 5,
   "id": "c6d441f0-bf6a-4933-809d-2b09158b9144",
   "metadata": {},
   "outputs": [],
   "source": [
    "a = 3\n",
    "b = 5 # 변수에 저장"
   ]
  },
  {
   "cell_type": "code",
   "execution_count": 7,
   "id": "7275857f-14fd-4917-b2fe-511ef8645646",
   "metadata": {},
   "outputs": [
    {
     "data": {
      "text/plain": [
       "11"
      ]
     },
     "execution_count": 7,
     "metadata": {},
     "output_type": "execute_result"
    }
   ],
   "source": [
    "2*a+b"
   ]
  },
  {
   "cell_type": "markdown",
   "id": "e28124b8-6db1-4c9a-a504-0c03b406e117",
   "metadata": {},
   "source": [
    "#### 변수에 문자열 저장"
   ]
  },
  {
   "cell_type": "code",
   "execution_count": 12,
   "id": "df7a8b7e-38e9-45c1-850c-3afeb9c55bcd",
   "metadata": {},
   "outputs": [
    {
     "name": "stdout",
     "output_type": "stream",
     "text": [
      "Python\n"
     ]
    }
   ],
   "source": [
    "a = \"Python\"\n",
    "print(a)"
   ]
  },
  {
   "cell_type": "code",
   "execution_count": 1,
   "id": "0e4421aa-de04-43ca-a02f-df5b5b84b719",
   "metadata": {},
   "outputs": [
    {
     "name": "stdout",
     "output_type": "stream",
     "text": [
      "a는 1보다 큽니다.\n",
      "끝\n"
     ]
    }
   ],
   "source": [
    "## 조건문 if\n",
    "\n",
    "a = 3\n",
    "if a > 1:\n",
    "    print(\"a는 1보다 큽니다.\")\n",
    "    print(\"끝\") # 조건문 만족할 때 두 가지를 한번에 출력할 수 있음"
   ]
  },
  {
   "cell_type": "code",
   "execution_count": 5,
   "id": "f29772d7-d7be-4556-a56a-a40eafaf7258",
   "metadata": {},
   "outputs": [
    {
     "name": "stdout",
     "output_type": "stream",
     "text": [
      "a는 1보다 큽니다.\n",
      "끝\n"
     ]
    }
   ],
   "source": [
    "## 조건문 if\n",
    "\n",
    "a = 3\n",
    "if a > 1:\n",
    "    print(\"a는 1보다 큽니다.\")\n",
    "print(\"끝\") # 들여쓰기 미실행, 조건문 밖에 있어서 무조건 실행되는 것"
   ]
  },
  {
   "cell_type": "code",
   "execution_count": 16,
   "id": "a5f14647-0c17-444e-8f5a-e0727e075d69",
   "metadata": {},
   "outputs": [
    {
     "name": "stdout",
     "output_type": "stream",
     "text": [
      "1\n",
      "2\n",
      "3\n"
     ]
    }
   ],
   "source": [
    "## 반복문 for\n",
    "\n",
    "for a in [1, 2, 3]:\n",
    "    print(a)"
   ]
  },
  {
   "cell_type": "code",
   "execution_count": 20,
   "id": "1f7b0aa0-5919-45e2-9205-372d2474e6e6",
   "metadata": {},
   "outputs": [
    {
     "name": "stdout",
     "output_type": "stream",
     "text": [
      "1\n",
      "2\n",
      "3\n"
     ]
    }
   ],
   "source": [
    "## 반복문 while\n",
    "\n",
    "i = 0\n",
    "while i < 3:\n",
    "    i = i+1\n",
    "    print(i)"
   ]
  },
  {
   "cell_type": "code",
   "execution_count": 22,
   "id": "ced91617-625e-48a2-b2f7-15f5926d94c9",
   "metadata": {},
   "outputs": [],
   "source": [
    "## 함수\n",
    "\n",
    "def add(a, b):\n",
    "    return a+b"
   ]
  },
  {
   "cell_type": "code",
   "execution_count": 24,
   "id": "e087074c-be93-4a7a-849d-1fbf8d18963f",
   "metadata": {},
   "outputs": [
    {
     "data": {
      "text/plain": [
       "7"
      ]
     },
     "execution_count": 24,
     "metadata": {},
     "output_type": "execute_result"
    }
   ],
   "source": [
    "add(3, 4)"
   ]
  },
  {
   "cell_type": "code",
   "execution_count": null,
   "id": "a8745ced-1bc6-4df9-b3b5-e6a61aec7740",
   "metadata": {},
   "outputs": [],
   "source": []
  }
 ],
 "metadata": {
  "kernelspec": {
   "display_name": "Python [conda env:base] *",
   "language": "python",
   "name": "conda-base-py"
  },
  "language_info": {
   "codemirror_mode": {
    "name": "ipython",
    "version": 3
   },
   "file_extension": ".py",
   "mimetype": "text/x-python",
   "name": "python",
   "nbconvert_exporter": "python",
   "pygments_lexer": "ipython3",
   "version": "3.12.7"
  }
 },
 "nbformat": 4,
 "nbformat_minor": 5
}
